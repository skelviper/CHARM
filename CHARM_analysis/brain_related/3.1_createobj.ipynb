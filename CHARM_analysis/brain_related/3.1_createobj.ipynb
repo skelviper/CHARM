{
 "cells": [
  {
   "cell_type": "code",
   "execution_count": 1,
   "metadata": {
    "vscode": {
     "languageId": "r"
    }
   },
   "outputs": [],
   "source": [
    "import os\n",
    "os.environ[\"OMP_NUM_THREADS\"] = \"1\"\n",
    "os.environ[\"OPENBLAS_NUM_THREADS\"] = \"1\"\n",
    "os.environ[\"MKL_NUM_THREADS\"] = \"1\" \n",
    "os.environ[\"VECLIB_MAXIMUM_THREADS\"] = \"1\"\n",
    "os.environ[\"NUMEXPR_NUM_THREADS\"] = \"1\" \n",
    "import multiprocessing\n",
    "multiprocessing.set_start_method('fork')\n",
    "import concurrent.futures\n",
    "\n",
    "import numpy as np\n",
    "import pandas as pd\n",
    "import sys\n",
    "import re\n",
    "from scipy import stats\n",
    "import pickle\n",
    "\n",
    "sys.path.append('/shareb/zliu/analysis/')\n",
    "sys.path.append('/shareb/zliu/analysis/CHARMtools')\n",
    "from CHARMtools import Cell3Ddev as Cell3D\n",
    "from CHARMtools import MultiCell3D\n",
    "\n",
    "import matplotlib.pyplot as plt\n",
    "import seaborn as sns\n",
    "import tqdm\n",
    "\n",
    "import pybedtools"
   ]
  },
  {
   "cell_type": "markdown",
   "metadata": {},
   "source": [
    "## Create c3d object"
   ]
  },
  {
   "cell_type": "code",
   "execution_count": 2,
   "metadata": {
    "vscode": {
     "languageId": "r"
    }
   },
   "outputs": [],
   "source": [
    "metadata = pd.read_csv(\"./all.metadata.tsv\", sep=\"\\t\",header=None)\n",
    "metadata.columns = [\"cellname\", \"celltype\",\"mc_15\",\"mc_20\",\"mc_25\"]\n",
    "\n",
    "dpt_link = pd.read_csv(\"/zliu_ssd/CHARM/CHARM_brain/4_cregene/metacell_allcells/droplet_pairtag/CHARM_mesc_DPT_link.tsv\", sep=\"\\t\")\n",
    "dpt_link[\"CHARM\"] = dpt_link[\"CHARM\"].apply(lambda x: x.split(\"_\")[1])\n",
    "dpt_link[\"Closest_DPT\"] = dpt_link[\"Closest_DPT\"].apply(lambda x: x.split(\"_\")[1])\n",
    "dpt_link_dict = {}\n",
    "for i in range(dpt_link.shape[0]):\n",
    "    dpt_link_dict[dpt_link.iloc[i,0]] = dpt_link.iloc[i,1]"
   ]
  },
  {
   "cell_type": "code",
   "execution_count": 3,
   "metadata": {
    "vscode": {
     "languageId": "r"
    }
   },
   "outputs": [
    {
     "name": "stderr",
     "output_type": "stream",
     "text": [
      "100%|██████████| 3456/3456 [51:25<00:00,  1.12it/s]  \n"
     ]
    }
   ],
   "source": [
    "def _load_cell(cellname, resolution):\n",
    "    if cellname[0] == \"R\":\n",
    "        celltype = \"brain\"\n",
    "    else:\n",
    "        celltype = \"mesc\"\n",
    "\n",
    "    if celltype == \"brain\":\n",
    "        cell = Cell3D.Cell3D(\n",
    "            cellname = cellname,\n",
    "            resolution = int(resolution),\n",
    "            tdg_path = f\"/zliu_ssd/CHARM/CHARM_brain/data/tdg/{cellname}.5k.3dg.gz\",\n",
    "        )\n",
    "        cell.add_bed_data(path=f\"/zliu_ssd/CHARM/CHARM_brain/data/fragments/atac_frags/{cellname}.atac.frag.bed.gz\", column_name='atac',type=\"all\")\n",
    "        cell.add_bed_data(path=f\"/zliu_ssd/CHARM/CHARM_brain/data/fragments/ct_frags/{cellname}.ct.frag.bed.gz\", column_name='ct',type=\"all\")\n",
    "\n",
    "    else:\n",
    "        dpt_cellname = dpt_link_dict[cellname]\n",
    "        cell = Cell3D.Cell3D(\n",
    "            cellname = cellname,\n",
    "            resolution = int(resolution),\n",
    "            tdg_path = f\"/zliu_ssd/CHARM/CHARM_mesc/data/tdg/{cellname}.5k.3dg.gz\",\n",
    "        )\n",
    "        cell.add_bed_data(path=f\"/zliu_ssd/CHARM/CHARM_mesc/data/fragments/atac_frags/{cellname}.atac.frag.bed.gz\", column_name='atac',type=\"all\")\n",
    "        cell.add_bed_data(path=f\"/zliu_ssd/CHARM/CHARM_brain/4_cregene/metacell_allcells/droplet_pairtag/mesc_dpt_cells/{dpt_cellname}.ct.frag.bed.gz\", column_name='ct',type=\"all\")\n",
    "\n",
    "    cell.add_chrom_length(chrom_length_path = \"/share/Data/public/ref_genome/mouse_ref/M23/raw_data/chr.dip.len\")\n",
    "    cell.calc_expected(n_diag=401)\n",
    "    cell.tdg = cell.get_data(if_dense=True)\n",
    "    \n",
    "    cell.to_disk(on_disk_path = f\"/zliu_ssd/CHARM/CHARM_brain/4_cregene/metacell_allcells/c3d/\")\n",
    "    return cell\n",
    "\n",
    "with concurrent.futures.ProcessPoolExecutor(250,mp_context=multiprocessing.get_context(\"fork\")) as executor:\n",
    "   cells = list(tqdm.tqdm(executor.map(_load_cell, metadata['cellname'], 5000*np.ones(metadata.shape[0])), total=metadata.shape[0]))\n",
    "\n",
    "brain = MultiCell3D.MultiCell3D(cells)\n",
    "\n",
    "with open(\"brain.pkl\", \"wb\") as f:\n",
    "    pickle.dump(brain, f)\n"
   ]
  }
 ],
 "metadata": {
  "kernelspec": {
   "display_name": "R 4.3.2",
   "language": "R",
   "name": "ir43"
  },
  "language_info": {
   "codemirror_mode": {
    "name": "ipython",
    "version": 3
   },
   "file_extension": ".py",
   "mimetype": "text/x-python",
   "name": "R",
   "nbconvert_exporter": "python",
   "pygments_lexer": "ipython3",
   "version": "3.10.13"
  }
 },
 "nbformat": 4,
 "nbformat_minor": 2
}

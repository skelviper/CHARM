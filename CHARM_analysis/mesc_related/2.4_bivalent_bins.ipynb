{
 "cells": [
  {
   "cell_type": "code",
   "execution_count": 1,
   "metadata": {},
   "outputs": [
    {
     "name": "stderr",
     "output_type": "stream",
     "text": [
      "/tmp/ipykernel_564040/3613112242.py:32: DeprecationWarning: `set_matplotlib_formats` is deprecated since IPython 7.23, directly use `matplotlib_inline.backend_inline.set_matplotlib_formats()`\n",
      "  set_matplotlib_formats('retina')\n"
     ]
    }
   ],
   "source": [
    "import os\n",
    "os.environ[\"OMP_NUM_THREADS\"] = \"1\"\n",
    "os.environ[\"OPENBLAS_NUM_THREADS\"] = \"1\"\n",
    "os.environ[\"MKL_NUM_THREADS\"] = \"1\" \n",
    "os.environ[\"VECLIB_MAXIMUM_THREADS\"] = \"1\"\n",
    "os.environ[\"NUMEXPR_NUM_THREADS\"] = \"1\" \n",
    "\n",
    "import numpy as np\n",
    "import pandas as pd\n",
    "import sys\n",
    "import re\n",
    "import concurrent.futures\n",
    "import tqdm\n",
    "import multiprocessing\n",
    "from functools import partial\n",
    "import pickle\n",
    "\n",
    "sys.path.append('/shareb/zliu/analysis/')\n",
    "sys.path.append('/shareb/zliu/analysis/CHARMtools')\n",
    "from CHARMtools import Cell3Ddev as Cell3D\n",
    "from CHARMtools import MultiCell3D\n",
    "from CHARMtools import spatialstat\n",
    "\n",
    "import matplotlib.pyplot as plt\n",
    "import seaborn as sns\n",
    "\n",
    "from scipy import stats\n",
    "\n",
    "\n",
    "plt.rcParams['pdf.use14corefonts'] = True\n",
    "from IPython.display import set_matplotlib_formats\n",
    "set_matplotlib_formats('retina')\n",
    "plt.rcParams['axes.grid'] = False\n",
    "import tqdm\n",
    "import matplotlib.pyplot as plt\n",
    "from scipy.stats import fisher_exact\n",
    "\n",
    "import pybedtools"
   ]
  },
  {
   "cell_type": "code",
   "execution_count": 2,
   "metadata": {},
   "outputs": [],
   "source": [
    "h3k4me3_peak = pd.read_csv(\"../data/publicdata/ENCODE/ENCFF406BED_encode_mESCE14_H3K4me3.bed.gz\",sep=\"\\t\",header=None).iloc[:,0:3]\n",
    "h3k4me3_peak.columns = [\"chrom\",\"start\",\"end\"]\n",
    "h3k27me3_peak_bruce4 = pd.read_csv(\"../data/publicdata/ENCODE/ENCFF008XKX_encode_mESCBruce4_H3K27me3.bed.gz\",sep=\"\\t\",header=None).iloc[:,0:3]\n",
    "h3k27me3_peak_bruce4.columns = [\"chrom\",\"start\",\"end\"]\n",
    "h3k27me3_peak_bruce4[\"start\"] = h3k27me3_peak_bruce4[\"start\"] - 2000\n",
    "h3k27me3_peak_bruce4[\"end\"] = h3k27me3_peak_bruce4[\"end\"] + 2000\n",
    "\n",
    "chrom_length = pd.read_csv(\"/share/Data/public/ref_genome/mouse_ref/M23/raw_data/chr.len\",sep=\"\\t\",header=None)\n",
    "chrom_length.columns = [\"chrom\",\"length\"]\n",
    "\n",
    "h3k4me3_bed = pybedtools.BedTool.from_dataframe(h3k4me3_peak)\n",
    "h3k27me3_bed = pybedtools.BedTool.from_dataframe(h3k27me3_peak_bruce4)\n",
    "bivalent_peaks = h3k4me3_bed.intersect(h3k27me3_bed,wa=True).to_dataframe().drop_duplicates()\n",
    "bivalent_peaks.columns = [\"chrom\",\"start\",\"end\"]"
   ]
  },
  {
   "cell_type": "code",
   "execution_count": 3,
   "metadata": {},
   "outputs": [],
   "source": [
    "# 5kb bins\n",
    "bins_table = pd.read_table(\"/share/Data/public/ref_genome/mouse_ref/M23/CpG/normal_cpg/M23.CpG.5000.txt\",header=None).iloc[:,0:3]\n",
    "bins_table = bins_table.rename(columns={0:\"chrom\",1:\"start\",2:\"end\"})"
   ]
  },
  {
   "cell_type": "code",
   "execution_count": 4,
   "metadata": {},
   "outputs": [
    {
     "data": {
      "text/html": [
       "<div>\n",
       "<style scoped>\n",
       "    .dataframe tbody tr th:only-of-type {\n",
       "        vertical-align: middle;\n",
       "    }\n",
       "\n",
       "    .dataframe tbody tr th {\n",
       "        vertical-align: top;\n",
       "    }\n",
       "\n",
       "    .dataframe thead th {\n",
       "        text-align: right;\n",
       "    }\n",
       "</style>\n",
       "<table border=\"1\" class=\"dataframe\">\n",
       "  <thead>\n",
       "    <tr style=\"text-align: right;\">\n",
       "      <th></th>\n",
       "      <th>chrom</th>\n",
       "      <th>start</th>\n",
       "      <th>end</th>\n",
       "    </tr>\n",
       "  </thead>\n",
       "  <tbody>\n",
       "    <tr>\n",
       "      <th>0</th>\n",
       "      <td>chr1</td>\n",
       "      <td>3000000</td>\n",
       "      <td>3005000</td>\n",
       "    </tr>\n",
       "    <tr>\n",
       "      <th>1</th>\n",
       "      <td>chr1</td>\n",
       "      <td>3005000</td>\n",
       "      <td>3010000</td>\n",
       "    </tr>\n",
       "    <tr>\n",
       "      <th>2</th>\n",
       "      <td>chr1</td>\n",
       "      <td>3010000</td>\n",
       "      <td>3015000</td>\n",
       "    </tr>\n",
       "    <tr>\n",
       "      <th>3</th>\n",
       "      <td>chr1</td>\n",
       "      <td>3015000</td>\n",
       "      <td>3020000</td>\n",
       "    </tr>\n",
       "    <tr>\n",
       "      <th>4</th>\n",
       "      <td>chr1</td>\n",
       "      <td>3020000</td>\n",
       "      <td>3025000</td>\n",
       "    </tr>\n",
       "    <tr>\n",
       "      <th>...</th>\n",
       "      <td>...</td>\n",
       "      <td>...</td>\n",
       "      <td>...</td>\n",
       "    </tr>\n",
       "    <tr>\n",
       "      <th>530779</th>\n",
       "      <td>JH584304.1</td>\n",
       "      <td>90000</td>\n",
       "      <td>95000</td>\n",
       "    </tr>\n",
       "    <tr>\n",
       "      <th>530780</th>\n",
       "      <td>JH584304.1</td>\n",
       "      <td>95000</td>\n",
       "      <td>100000</td>\n",
       "    </tr>\n",
       "    <tr>\n",
       "      <th>530781</th>\n",
       "      <td>JH584304.1</td>\n",
       "      <td>100000</td>\n",
       "      <td>105000</td>\n",
       "    </tr>\n",
       "    <tr>\n",
       "      <th>530782</th>\n",
       "      <td>JH584304.1</td>\n",
       "      <td>105000</td>\n",
       "      <td>110000</td>\n",
       "    </tr>\n",
       "    <tr>\n",
       "      <th>530783</th>\n",
       "      <td>JH584304.1</td>\n",
       "      <td>110000</td>\n",
       "      <td>114452</td>\n",
       "    </tr>\n",
       "  </tbody>\n",
       "</table>\n",
       "<p>530784 rows × 3 columns</p>\n",
       "</div>"
      ],
      "text/plain": [
       "             chrom    start      end\n",
       "0             chr1  3000000  3005000\n",
       "1             chr1  3005000  3010000\n",
       "2             chr1  3010000  3015000\n",
       "3             chr1  3015000  3020000\n",
       "4             chr1  3020000  3025000\n",
       "...            ...      ...      ...\n",
       "530779  JH584304.1    90000    95000\n",
       "530780  JH584304.1    95000   100000\n",
       "530781  JH584304.1   100000   105000\n",
       "530782  JH584304.1   105000   110000\n",
       "530783  JH584304.1   110000   114452\n",
       "\n",
       "[530784 rows x 3 columns]"
      ]
     },
     "execution_count": 4,
     "metadata": {},
     "output_type": "execute_result"
    }
   ],
   "source": [
    "bins_table"
   ]
  },
  {
   "cell_type": "code",
   "execution_count": 5,
   "metadata": {},
   "outputs": [
    {
     "name": "stderr",
     "output_type": "stream",
     "text": [
      "***** WARNING: File /tmp/pybedtools.00g47nv6.tmp has inconsistent naming convention for record:\n",
      "GL456210.1\t0\t5000\n",
      "\n",
      "***** WARNING: File /tmp/pybedtools.00g47nv6.tmp has inconsistent naming convention for record:\n",
      "GL456210.1\t0\t5000\n",
      "\n"
     ]
    }
   ],
   "source": [
    "bivalent_bins = pybedtools.BedTool.from_dataframe(bins_table).intersect(h3k4me3_bed.intersect(h3k27me3_bed,wa=True),wa=True).to_dataframe().drop_duplicates()\n",
    "bivalent_bins.reset_index(drop=True,inplace=True)"
   ]
  },
  {
   "cell_type": "code",
   "execution_count": 6,
   "metadata": {},
   "outputs": [],
   "source": [
    "bivalent_bins.to_csv(\"bivalent_bins.bed\",sep=\"\\t\",header=False,index=False)"
   ]
  },
  {
   "cell_type": "code",
   "execution_count": 7,
   "metadata": {},
   "outputs": [],
   "source": [
    "metadata=pd.read_csv(\"../data/metadata/metadata.tsv\",sep=\"\\t\")\n",
    "cellnames = metadata[\"cellname\"].values"
   ]
  },
  {
   "cell_type": "code",
   "execution_count": 8,
   "metadata": {},
   "outputs": [
    {
     "name": "stderr",
     "output_type": "stream",
     "text": [
      "100%|██████████| 805/805 [02:40<00:00,  5.03it/s]\n"
     ]
    }
   ],
   "source": [
    "def _load_cell(cellname, resolution):\n",
    "    cell = Cell3D.Cell3D(\n",
    "        cellname = cellname,\n",
    "        resolution = int(resolution),\n",
    "        tdg_path = f\"../data/tdg/{cellname}.5k.3dg.gz\",\n",
    "    )\n",
    "    cell.add_bed_data(path=f\"../data/fragments/atac_frags/{cellname}.atac.frag.bed.gz\",\n",
    "                     column_name=\"atac\" ,keep_3prime=True,type=\"allelic_resolved\")\n",
    "    cell.add_bed_data(path=f\"../data/fragments/ct_frags/{cellname}.ct.frag.bed.gz\", \n",
    "                     column_name=\"ct\" ,keep_3prime=True,type=\"allelic_resolved\")\n",
    "    cell.add_bed_data(path=f\"./bivalent_bins.bed\", \n",
    "                     column_name=\"bivalent_bins\" ,keep_3prime=False,type=\"all\")      \n",
    "    cell.subset(query=\"bivalent_bins > 0\", in_place=True)\n",
    "    return cell\n",
    "\n",
    "with concurrent.futures.ProcessPoolExecutor(max_workers=50) as executor:\n",
    "    cells = list(tqdm.tqdm(executor.map(_load_cell, metadata['cellname'], [5000]*len(metadata)), total=len(metadata)))"
   ]
  },
  {
   "cell_type": "code",
   "execution_count": 9,
   "metadata": {},
   "outputs": [
    {
     "name": "stderr",
     "output_type": "stream",
     "text": [
      "100%|██████████| 805/805 [00:02<00:00, 292.88it/s]\n"
     ]
    }
   ],
   "source": [
    "def _process_cell(cell):\n",
    "    \"\"\"\n",
    "    group points by if atac > 0 and if ct > 0 ,return odds ratio\n",
    "    \"\"\"\n",
    "    temp_df = cell.get_data().copy()\n",
    "    temp_df[\"if_atac\"] = temp_df[\"atac\"].apply(lambda x: 1 if x > 0 else 0)\n",
    "    temp_df[\"if_ct\"] = temp_df[\"ct\"].apply(lambda x: 1 if x > 0 else 0)\n",
    "\n",
    "    temp_df = temp_df.groupby([\"if_atac\",\"if_ct\"]).agg({\"bivalent_bins\":\"count\"}).reset_index(inplace=False)\n",
    "    temp_df = temp_df.sort_values(by=[\"if_atac\",\"if_ct\"],ascending=[False,False])\n",
    "    #print(temp_df[[\"bivalent_bins\"]].values.reshape(2,2))\n",
    "    odds_ratio, p_value = fisher_exact(temp_df[[\"bivalent_bins\"]].values.reshape(2,2))\n",
    "    return odds_ratio, p_value\n",
    "\n",
    "odds_ratios = []\n",
    "p_values = []\n",
    "with concurrent.futures.ProcessPoolExecutor(max_workers=50) as executor:\n",
    "    results = list(tqdm.tqdm(executor.map(_process_cell, cells), total=len(cells)))\n",
    "    for odds_ratio, p_value in results:\n",
    "        odds_ratios.append(odds_ratio)\n",
    "        p_values.append(p_value)"
   ]
  },
  {
   "cell_type": "code",
   "execution_count": 10,
   "metadata": {},
   "outputs": [
    {
     "data": {
      "text/plain": [
       "WilcoxonResult(statistic=81.0, pvalue=2.869684338936139e-133)"
      ]
     },
     "execution_count": 10,
     "metadata": {},
     "output_type": "execute_result"
    }
   ],
   "source": [
    "#np.array(odds_ratios)\n",
    "stats.wilcoxon(np.array(odds_ratios)-1)"
   ]
  },
  {
   "cell_type": "markdown",
   "metadata": {},
   "source": []
  },
  {
   "cell_type": "code",
   "execution_count": 14,
   "metadata": {},
   "outputs": [
    {
     "name": "stdout",
     "output_type": "stream",
     "text": [
      "median: 1.592928341185222\n"
     ]
    },
    {
     "data": {
      "image/png": "[encoded data removed]",
      "text/plain": [
       "<Figure size 400x400 with 1 Axes>"
      ]
     },
     "metadata": {
      "image/png": {
       "height": 371,
       "width": 390
      }
     },
     "output_type": "display_data"
    }
   ],
   "source": [
    "plt.figure(figsize=(4, 4))\n",
    "#plt.hist(np.log2(np.array(odds_ratios)+1))\n",
    "plt.hist(np.array(odds_ratios), bins=20, edgecolor='black', alpha=0.7)\n",
    "# median line \n",
    "median = np.median(np.array(odds_ratios))\n",
    "plt.axvline(median, color='black', linestyle='dashed', linewidth=2)\n",
    "print(f\"median: {median}\")\n",
    "plt.xlim(0, 6)\n",
    "plt.xlabel(\"Odds Ratio\")\n",
    "plt.ylabel(\"Frequency\")\n",
    "plt.savefig(\"figures/odds_ratio_hist.pdf\", bbox_inches='tight')"
   ]
  }
 ],
 "metadata": {
  "kernelspec": {
   "display_name": "hic",
   "language": "python",
   "name": "hic"
  },
  "language_info": {
   "codemirror_mode": {
    "name": "ipython",
    "version": 3
   },
   "file_extension": ".py",
   "mimetype": "text/x-python",
   "name": "python",
   "nbconvert_exporter": "python",
   "pygments_lexer": "ipython3",
   "version": "3.10.13"
  }
 },
 "nbformat": 4,
 "nbformat_minor": 2
}

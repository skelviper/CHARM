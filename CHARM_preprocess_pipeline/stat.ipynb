{
 "cells": [
  {
   "cell_type": "markdown",
   "metadata": {},
   "source": [
    "# CHARM Data Preprocessing Statistical Analysis\n",
    "\n",
    "This notebook analyzes CHARM experimental data preprocessing results including:\n",
    "- Raw data quality statistics\n",
    "- Data cleaning effectiveness assessment\n",
    "- RNA and DNA reads distribution analysis\n",
    "- Paired data (pairs) quality evaluation\n",
    "- Multi-omics data integration analysis"
   ]
  },
  {
   "cell_type": "markdown",
   "metadata": {},
   "source": [
    "## 1. Environment Setup and Library Loading"
   ]
  },
  {
   "cell_type": "code",
   "execution_count": 6,
   "metadata": {
    "vscode": {
     "languageId": "r"
    }
   },
   "outputs": [],
   "source": [
    "suppressPackageStartupMessages({\n",
    "  library(tidyverse)\n",
    "  library(ggpubr)\n",
    "  library(yaml)\n",
    "  library(patchwork)\n",
    "})\n",
    "\n",
    "options(repr.matrix.max.cols = 100, repr.matrix.max.rows = 20)"
   ]
  },
  {
   "cell_type": "markdown",
   "metadata": {},
   "source": [
    "## 2. Configuration and Data Path Setup"
   ]
  },
  {
   "cell_type": "code",
   "execution_count": 7,
   "metadata": {
    "vscode": {
     "languageId": "r"
    }
   },
   "outputs": [],
   "source": [
    "config <- read_yaml(file = \"../CHARM_preprocess_pipeline/config.yaml\")\n",
    "\n",
    "stat_dir <- \"../stat/\"\n",
    "result_dir <- \"../result/\""
   ]
  },
  {
   "cell_type": "markdown",
   "metadata": {},
   "source": [
    "## 3. Raw Data Statistics Loading\n",
    "\n",
    "Load various statistical files including raw reads, DNA reads, RNA reads and other basic statistics."
   ]
  },
  {
   "cell_type": "code",
   "execution_count": 8,
   "metadata": {
    "vscode": {
     "languageId": "r"
    }
   },
   "outputs": [
    {
     "name": "stderr",
     "output_type": "stream",
     "text": [
      "\n",
      "\u001b[36m--\u001b[39m \u001b[1mColumn specification\u001b[22m \u001b[36m--------------------------------------------------------\u001b[39m\n",
      "cols(\n",
      "  X1 = \u001b[31mcol_character()\u001b[39m,\n",
      "  X2 = \u001b[32mcol_double()\u001b[39m\n",
      ")\n",
      "\n",
      "\n",
      "\u001b[36m--\u001b[39m \u001b[1mColumn specification\u001b[22m \u001b[36m--------------------------------------------------------\u001b[39m\n",
      "cols(\n",
      "  X1 = \u001b[31mcol_character()\u001b[39m,\n",
      "  X2 = \u001b[32mcol_double()\u001b[39m\n",
      ")\n",
      "\n",
      "\n",
      "\u001b[36m--\u001b[39m \u001b[1mColumn specification\u001b[22m \u001b[36m--------------------------------------------------------\u001b[39m\n",
      "cols(\n",
      "  X1 = \u001b[31mcol_character()\u001b[39m,\n",
      "  X2 = \u001b[32mcol_double()\u001b[39m\n",
      ")\n",
      "\n"
     ]
    }
   ],
   "source": [
    "# Convert reads count to Gb and extract cell names\n",
    "Raw <- read_table(paste0(stat_dir, \"raw.fq.stat\"), col_names = FALSE) %>%\n",
    "  arrange(X1) %>%\n",
    "  rowwise() %>%\n",
    "  mutate(\n",
    "    X2 = X2 / 4 * 300 / 1000000000,\n",
    "    X1 = strsplit(X1, split = \"/\")[[1]][3],\n",
    "    X1 = strsplit(X1, split = \"_\")[[1]][1]\n",
    "  )\n",
    "\n",
    "DNA <- read_table(paste0(stat_dir, \"dna.fq.stat\"), col_names = FALSE) %>%\n",
    "  arrange(X1) %>%\n",
    "  rowwise() %>%\n",
    "  mutate(\n",
    "    X2 = X2 / 4 * 300 / 1000000000,\n",
    "    X1 = strsplit(X1, split = \"/\")[[1]][3]\n",
    "  )\n",
    "\n",
    "RNA <- read_table(paste0(stat_dir, \"rna.fq.stat\"), col_names = FALSE) %>%\n",
    "  arrange(X1) %>%\n",
    "  rowwise() %>%\n",
    "  mutate(\n",
    "    X2 = X2 / 4 * 300 / 1000000000,\n",
    "    X1 = strsplit(X1, split = \"/\")[[1]][3]\n",
    "  )"
   ]
  },
  {
   "cell_type": "markdown",
   "metadata": {},
   "source": [
    "## 4. Paired Data (Pairs) Statistics Loading\n",
    "\n",
    "Load Hi-C paired data statistics from various processing stages."
   ]
  },
  {
   "cell_type": "code",
   "execution_count": 9,
   "metadata": {
    "vscode": {
     "languageId": "r"
    }
   },
   "outputs": [
    {
     "name": "stderr",
     "output_type": "stream",
     "text": [
      "\n",
      "\u001b[36m--\u001b[39m \u001b[1mColumn specification\u001b[22m \u001b[36m--------------------------------------------------------\u001b[39m\n",
      "cols(\n",
      "  X1 = \u001b[31mcol_character()\u001b[39m,\n",
      "  X2 = \u001b[32mcol_double()\u001b[39m\n",
      ")\n",
      "\n",
      "\n",
      "\u001b[36m--\u001b[39m \u001b[1mColumn specification\u001b[22m \u001b[36m--------------------------------------------------------\u001b[39m\n",
      "cols(\n",
      "  X1 = \u001b[31mcol_character()\u001b[39m,\n",
      "  X2 = \u001b[32mcol_double()\u001b[39m\n",
      ")\n",
      "\n",
      "\n",
      "\u001b[36m--\u001b[39m \u001b[1mColumn specification\u001b[22m \u001b[36m--------------------------------------------------------\u001b[39m\n",
      "cols(\n",
      "  X1 = \u001b[31mcol_character()\u001b[39m,\n",
      "  X2 = \u001b[32mcol_double()\u001b[39m\n",
      ")\n",
      "\n",
      "\n",
      "\u001b[36m--\u001b[39m \u001b[1mColumn specification\u001b[22m \u001b[36m--------------------------------------------------------\u001b[39m\n",
      "cols(\n",
      "  X1 = \u001b[31mcol_character()\u001b[39m,\n",
      "  X2 = \u001b[32mcol_double()\u001b[39m\n",
      ")\n",
      "\n",
      "\n",
      "\u001b[36m--\u001b[39m \u001b[1mColumn specification\u001b[22m \u001b[36m--------------------------------------------------------\u001b[39m\n",
      "cols(\n",
      "  X1 = \u001b[31mcol_character()\u001b[39m,\n",
      "  X2 = \u001b[32mcol_double()\u001b[39m\n",
      ")\n",
      "\n",
      "\n",
      "\u001b[36m--\u001b[39m \u001b[1mColumn specification\u001b[22m \u001b[36m--------------------------------------------------------\u001b[39m\n",
      "cols(\n",
      "  X1 = \u001b[31mcol_character()\u001b[39m,\n",
      "  X2 = \u001b[32mcol_double()\u001b[39m\n",
      ")\n",
      "\n"
     ]
    }
   ],
   "source": [
    "raw_pairs <- read_table(paste0(stat_dir, \"raw.pairs.stat\"), col_names = FALSE) %>%\n",
    "  arrange(X1) %>%\n",
    "  rowwise() %>%\n",
    "  mutate(X1 = strsplit(X1, split = \"/\")[[1]][3])\n",
    "\n",
    "pairs_dedup <- read_table(paste0(stat_dir, \"pairs.dedup.stat\"), col_names = FALSE) %>%\n",
    "  arrange(X1) %>%\n",
    "  rowwise() %>%\n",
    "  mutate(X1 = strsplit(X1, split = \"/\")[[1]][3])\n",
    "\n",
    "# Cleaned paired data statistics\n",
    "pairs_c1 <- read_table(paste0(stat_dir, \"pairs.c1.stat\"), col_names = FALSE) %>%\n",
    "  arrange(X1) %>%\n",
    "  rowwise() %>%\n",
    "  mutate(\n",
    "    X1 = strsplit(X1, split = \"/\")[[1]][5],\n",
    "    X1 = str_replace(X1, \".pairs.gz\", \"\")\n",
    "  )\n",
    "\n",
    "pairs_c12 <- read_table(paste0(stat_dir, \"pairs.c12.stat\"), col_names = FALSE) %>%\n",
    "  arrange(X1) %>%\n",
    "  rowwise() %>%\n",
    "  mutate(\n",
    "    X1 = strsplit(X1, split = \"/\")[[1]][5],\n",
    "    X1 = str_replace(X1, \".pairs.gz\", \"\")\n",
    "  )\n",
    "\n",
    "pairs_c123 <- read_table(paste0(stat_dir, \"pairs.c123.stat\"), col_names = FALSE) %>%\n",
    "  arrange(X1) %>%\n",
    "  rowwise() %>%\n",
    "  mutate(\n",
    "    X1 = strsplit(X1, split = \"/\")[[1]][5],\n",
    "    X1 = str_replace(X1, \".pairs.gz\", \"\")\n",
    "  )\n",
    "\n",
    "# Inter-chromosomal pairs statistics\n",
    "inter_pairs_c123 <- read_table(paste0(stat_dir, \"inter.pairs.c123.stat\"), col_names = FALSE) %>%\n",
    "  arrange(X1) %>%\n",
    "  rowwise() %>%\n",
    "  mutate(\n",
    "    X1 = strsplit(X1, split = \"/\")[[1]][5],\n",
    "    X1 = str_replace(X1, \".pairs.gz\", \"\")\n",
    "  )"
   ]
  },
  {
   "cell_type": "markdown",
   "metadata": {},
   "source": [
    "## 5. RNA Expression Data Statistics\n",
    "\n",
    "Load RNA-seq data statistics at gene and exon levels."
   ]
  },
  {
   "cell_type": "code",
   "execution_count": 27,
   "metadata": {
    "vscode": {
     "languageId": "r"
    }
   },
   "outputs": [
    {
     "name": "stderr",
     "output_type": "stream",
     "text": [
      "\n",
      "\u001b[36m--\u001b[39m \u001b[1mColumn specification\u001b[22m \u001b[36m--------------------------------------------------------\u001b[39m\n",
      "cols(\n",
      "  X1 = \u001b[31mcol_character()\u001b[39m,\n",
      "  X2 = \u001b[32mcol_double()\u001b[39m\n",
      ")\n",
      "\n"
     ]
    },
    {
     "name": "stderr",
     "output_type": "stream",
     "text": [
      "\n",
      "\u001b[36m--\u001b[39m \u001b[1mColumn specification\u001b[22m \u001b[36m--------------------------------------------------------\u001b[39m\n",
      "cols(\n",
      "  gene = \u001b[31mcol_character()\u001b[39m,\n",
      "  R1P10013 = \u001b[32mcol_double()\u001b[39m\n",
      ")\n",
      "\n",
      "\n",
      "\u001b[36m--\u001b[39m \u001b[1mColumn specification\u001b[22m \u001b[36m--------------------------------------------------------\u001b[39m\n",
      "cols(\n",
      "  gene = \u001b[31mcol_character()\u001b[39m,\n",
      "  R1P10013 = \u001b[32mcol_double()\u001b[39m\n",
      ")\n",
      "\n"
     ]
    }
   ],
   "source": [
    "# Y/X chromosome ratio statistics\n",
    "yperx <- read_table(paste0(stat_dir, \"yperx.stat\"), col_names = FALSE) %>%\n",
    "  arrange(X1) %>%\n",
    "  rowwise() %>%\n",
    "  mutate(X1 = strsplit(X1, split = \"/\")[[1]][2])\n",
    "\n",
    "# Gene-level expression statistics\n",
    "RNAres <- read_table(paste0(result_dir, \"RNA_Res/counts.gene.total.format.tsv\"))\n",
    "featureStat <- cbind(\n",
    "  as.data.frame(colSums(RNAres %>% dplyr::select(-gene))),\n",
    "  colSums(RNAres %>% dplyr::select(-gene) != 0)\n",
    ") %>%\n",
    "  rownames_to_column(\"X1\")\n",
    "\n",
    "# Exon-level expression statistics\n",
    "RNAresExon <- read_table(paste0(result_dir, \"RNA_Res/counts.exon.total.format.tsv\"))\n",
    "featureStatExon <- cbind(\n",
    "  as.data.frame(colSums(RNAresExon %>% dplyr::select(-gene))),\n",
    "  colSums(RNAresExon %>% dplyr::select(-gene) != 0)\n",
    ") %>%\n",
    "  rownames_to_column(\"X1\")"
   ]
  },
  {
   "cell_type": "markdown",
   "metadata": {},
   "source": [
    "## 6. Data Integration and Statistical Table Construction\n",
    "\n",
    "Integrate all statistical information into a single data frame based on configuration settings."
   ]
  },
  {
   "cell_type": "code",
   "execution_count": 28,
   "metadata": {
    "vscode": {
     "languageId": "r"
    }
   },
   "outputs": [],
   "source": [
    "# Basic statistical data integration\n",
    "stat <- Raw %>%\n",
    "  left_join(DNA, by = \"X1\") %>%\n",
    "  left_join(RNA, by = \"X1\") %>%\n",
    "  left_join(yperx, by = \"X1\") %>%\n",
    "  left_join(raw_pairs, by = \"X1\") %>%\n",
    "  left_join(pairs_dedup, by = \"X1\") %>%\n",
    "  left_join(pairs_c1, by = \"X1\") %>%\n",
    "  left_join(pairs_c12, by = \"X1\") %>%\n",
    "  left_join(pairs_c123, by = \"X1\") %>%\n",
    "  left_join(inter_pairs_c123, by = \"X1\")\n",
    "\n",
    "# Add RNA SNP separation statistics based on configuration\n",
    "if (config$if_RNA_snp_split) {\n",
    "  RNAresGenome1 <- read_table(paste0(result_dir, \"RNA_Res/counts.gene.genome1.tsv\"))\n",
    "  RNAresGenome2 <- read_table(paste0(result_dir, \"RNA_Res/counts.gene.genome2.tsv\"))\n",
    "  \n",
    "  featureStatGenome1 <- cbind(\n",
    "    as.data.frame(colSums(RNAresGenome1 %>% select(-gene))),\n",
    "    colSums(RNAresGenome1 %>% select(-gene) != 0)\n",
    "  ) %>%\n",
    "    rownames_to_column(\"X1\")\n",
    "  \n",
    "  featureStatGenome2 <- cbind(\n",
    "    as.data.frame(colSums(RNAresGenome2 %>% select(-gene))),\n",
    "    colSums(RNAresGenome2 %>% select(-gene) != 0)\n",
    "  ) %>%\n",
    "    rownames_to_column(\"X1\")\n",
    "  \n",
    "  stat <- stat %>%\n",
    "    left_join(featureStat, by = \"X1\") %>%\n",
    "    left_join(featureStatExon, by = \"X1\") %>%\n",
    "    left_join(featureStatGenome1, by = \"X1\") %>%\n",
    "    left_join(featureStatGenome2, by = \"X1\")\n",
    "  \n",
    "  names(stat) <- c(\n",
    "    \"cellname\", \"Rawreads\", \"DNAreads\", \"RNAreads\", \"yperx\",\n",
    "    \"raw_pairs\", \"pairs_dedup\", \"pairs_clean1\", \"pairs_clean2\", \"pairs_clean3\",\n",
    "    \"inter_pairs_clean3\", \"UMIs_gene\", \"genes_gene\", \"UMIs_exon\", \"genes_exon\",\n",
    "    \"UMIs_gene_genome1\", \"genes_gene_genome1\", \"UMIs_gene_genome2\", \"genes_gene_genome2\"\n",
    "  )\n",
    "} else {\n",
    "  stat <- stat %>%\n",
    "    left_join(featureStat, by = \"X1\") %>%\n",
    "    left_join(featureStatExon, by = \"X1\")\n",
    "  \n",
    "  names(stat) <- c(\n",
    "    \"cellname\", \"Rawreads\", \"DNAreads\", \"RNAreads\", \"yperx\",\n",
    "    \"raw_pairs\", \"pairs_dedup\", \"pairs_clean1\", \"pairs_clean2\", \"pairs_clean3\",\n",
    "    \"inter_pairs_clean3\", \"UMIs_gene\", \"genes_gene\", \"UMIs_exon\", \"genes_exon\"\n",
    "  )\n",
    "}"
   ]
  },
  {
   "cell_type": "markdown",
   "metadata": {},
   "source": [
    "## 7. Optional Statistical Information Addition\n",
    "\n",
    "Add structural information and CHARM-specific statistics based on configuration settings."
   ]
  },
  {
   "cell_type": "code",
   "execution_count": 31,
   "metadata": {
    "vscode": {
     "languageId": "r"
    }
   },
   "outputs": [
    {
     "name": "stderr",
     "output_type": "stream",
     "text": [
      "\n",
      "\u001b[36m--\u001b[39m \u001b[1mColumn specification\u001b[22m \u001b[36m--------------------------------------------------------\u001b[39m\n",
      "cols(\n",
      "  X1 = \u001b[31mcol_character()\u001b[39m,\n",
      "  X2 = \u001b[31mcol_character()\u001b[39m,\n",
      "  X3 = \u001b[31mcol_character()\u001b[39m,\n",
      "  X4 = \u001b[31mcol_character()\u001b[39m,\n",
      "  X5 = \u001b[32mcol_double()\u001b[39m\n",
      ")\n",
      "\n",
      "\u001b[1mRows: \u001b[22m\u001b[34m1\u001b[39m \u001b[1mColumns: \u001b[22m\u001b[34m2\u001b[39m\n"
     ]
    },
    {
     "name": "stderr",
     "output_type": "stream",
     "text": [
      "\u001b[36m--\u001b[39m \u001b[1mColumn specification\u001b[22m \u001b[36m--------------------------------------------------------\u001b[39m\n",
      "\u001b[1mDelimiter:\u001b[22m \",\"\n",
      "\u001b[31mchr\u001b[39m (1): X1\n",
      "\u001b[32mdbl\u001b[39m (1): X2\n",
      "\n",
      "\u001b[36mi\u001b[39m Use `spec()` to retrieve the full column specification for this data.\n",
      "\u001b[36mi\u001b[39m Specify the column types or set `show_col_types = FALSE` to quiet this message.\n",
      "\u001b[1mRows: \u001b[22m\u001b[34m1\u001b[39m \u001b[1mColumns: \u001b[22m\u001b[34m2\u001b[39m\n",
      "\u001b[36m--\u001b[39m \u001b[1mColumn specification\u001b[22m \u001b[36m--------------------------------------------------------\u001b[39m\n",
      "\u001b[1mDelimiter:\u001b[22m \",\"\n",
      "\u001b[31mchr\u001b[39m (1): X1\n",
      "\u001b[32mdbl\u001b[39m (1): X2\n",
      "\n",
      "\u001b[36mi\u001b[39m Use `spec()` to retrieve the full column specification for this data.\n",
      "\u001b[36mi\u001b[39m Specify the column types or set `show_col_types = FALSE` to quiet this message.\n"
     ]
    }
   ],
   "source": [
    "# Add structural information if enabled\n",
    "if (config$if_structure) {\n",
    "  rmsd <- read_table(paste0(stat_dir, \"rmsd.info\"), col_names = FALSE) %>%\n",
    "    rowwise() %>%\n",
    "    mutate(\n",
    "      X1 = str_split(X1, pattern = fixed(\"/\")),\n",
    "      cellname = X1[1],\n",
    "      res = str_split(X1[3], fixed(\".\"))[[1]][2],\n",
    "      TOP3_RMSD = X5\n",
    "    ) %>%\n",
    "    dplyr::select(cellname, res, TOP3_RMSD) %>%\n",
    "    spread(res, TOP3_RMSD) %>%\n",
    "    arrange(cellname)\n",
    "  \n",
    "  stat <- stat %>% left_join(rmsd, by = \"cellname\")\n",
    "}\n",
    "\n",
    "# Add CHARM-specific statistics if enabled\n",
    "if (config$if_charm) {\n",
    "  reads <- tibble(\"cellname\" = NA)\n",
    "  \n",
    "  for (i in 1:length(names(config$split))) {\n",
    "    temp <- read_csv(\n",
    "      paste0(stat_dir, names(config$split)[i], \".read.stat\"),\n",
    "      col_names = FALSE\n",
    "    ) %>%\n",
    "      rowwise() %>%\n",
    "      mutate(X2 = X2 * 300 / 1000000000)\n",
    "    \n",
    "    names(temp) <- c(\"cellname\", paste0(names(config$split)[i], \"_reads\"))\n",
    "    reads <- reads %>% full_join(temp, by = \"cellname\")\n",
    "  }\n",
    "  \n",
    "  reads <- reads %>% dplyr::filter(!is.na(cellname))\n",
    "  stat <- stat %>% full_join(reads, by = \"cellname\")\n",
    "}"
   ]
  },
  {
   "cell_type": "markdown",
   "metadata": {},
   "source": [
    "## 8. Derived Metrics Calculation\n",
    "\n",
    "Calculate important quality control metrics and ratios."
   ]
  },
  {
   "cell_type": "code",
   "execution_count": 32,
   "metadata": {
    "vscode": {
     "languageId": "r"
    }
   },
   "outputs": [],
   "source": [
    "plot_data <- stat %>%\n",
    "  mutate(\n",
    "    RNAreadsRatio = RNAreads / (RNAreads + DNAreads),\n",
    "    pairsPerRead = raw_pairs / DNAreads / 1000000000 * 300,\n",
    "    pairsValidRatio = pairs_clean3 / raw_pairs,\n",
    "    interPairsRatio = inter_pairs_clean3 / pairs_clean3\n",
    "  )\n",
    "\n",
    "plot_data[is.na(plot_data)] <- 0"
   ]
  },
  {
   "cell_type": "markdown",
   "metadata": {},
   "source": [
    "## 9. Data Overview\n",
    "\n",
    "Display the integrated statistical data table."
   ]
  },
  {
   "cell_type": "code",
   "execution_count": 34,
   "metadata": {
    "vscode": {
     "languageId": "r"
    }
   },
   "outputs": [
    {
     "name": "stdout",
     "output_type": "stream",
     "text": [
      "[1] \"=== CHARM Data Preprocessing Statistics Overview ===\"\n"
     ]
    },
    {
     "data": {
      "text/html": [
       "<table class=\"dataframe\">\n",
       "<caption>A rowwise_df: 1 x 29</caption>\n",
       "<thead>\n",
       "\t<tr><th scope=col>cellname</th><th scope=col>Rawreads</th><th scope=col>DNAreads</th><th scope=col>RNAreads</th><th scope=col>yperx</th><th scope=col>raw_pairs</th><th scope=col>pairs_dedup</th><th scope=col>pairs_clean1</th><th scope=col>pairs_clean2</th><th scope=col>pairs_clean3</th><th scope=col>inter_pairs_clean3</th><th scope=col>UMIs_gene</th><th scope=col>genes_gene</th><th scope=col>UMIs_exon</th><th scope=col>genes_exon</th><th scope=col>1m.x</th><th scope=col>200k.x</th><th scope=col>20k.x</th><th scope=col>50k.x</th><th scope=col>1m.y</th><th scope=col>200k.y</th><th scope=col>20k.y</th><th scope=col>50k.y</th><th scope=col>ct_reads</th><th scope=col>atac_reads</th><th scope=col>RNAreadsRatio</th><th scope=col>pairsPerRead</th><th scope=col>pairsValidRatio</th><th scope=col>interPairsRatio</th></tr>\n",
       "\t<tr><th scope=col>&lt;chr&gt;</th><th scope=col>&lt;dbl&gt;</th><th scope=col>&lt;dbl&gt;</th><th scope=col>&lt;dbl&gt;</th><th scope=col>&lt;dbl&gt;</th><th scope=col>&lt;dbl&gt;</th><th scope=col>&lt;dbl&gt;</th><th scope=col>&lt;dbl&gt;</th><th scope=col>&lt;dbl&gt;</th><th scope=col>&lt;dbl&gt;</th><th scope=col>&lt;dbl&gt;</th><th scope=col>&lt;dbl&gt;</th><th scope=col>&lt;dbl&gt;</th><th scope=col>&lt;dbl&gt;</th><th scope=col>&lt;dbl&gt;</th><th scope=col>&lt;dbl&gt;</th><th scope=col>&lt;dbl&gt;</th><th scope=col>&lt;dbl&gt;</th><th scope=col>&lt;dbl&gt;</th><th scope=col>&lt;dbl&gt;</th><th scope=col>&lt;dbl&gt;</th><th scope=col>&lt;dbl&gt;</th><th scope=col>&lt;dbl&gt;</th><th scope=col>&lt;dbl&gt;</th><th scope=col>&lt;dbl&gt;</th><th scope=col>&lt;dbl&gt;</th><th scope=col>&lt;dbl&gt;</th><th scope=col>&lt;dbl&gt;</th><th scope=col>&lt;dbl&gt;</th></tr>\n",
       "</thead>\n",
       "<tbody>\n",
       "\t<tr><td>R1P10013</td><td>3.753487</td><td>3.752322</td><td>0.0010437</td><td>0.005022</td><td>3736619</td><td>779808</td><td>768346</td><td>508560</td><td>508059</td><td>27553</td><td>2152</td><td>1154</td><td>299</td><td>219</td><td>4.232651</td><td>8.206307</td><td>20.8746</td><td>14.853</td><td>4.232651</td><td>8.206307</td><td>20.8746</td><td>14.853</td><td>0.0063276</td><td>0.007428</td><td>0.0002780704</td><td>0.2987445</td><td>0.1359676</td><td>0.05423189</td></tr>\n",
       "</tbody>\n",
       "</table>\n"
      ],
      "text/latex": [
       "A rowwise\\_df: 1 x 29\n",
       "\\begin{tabular}{lllllllllllllllllllllllllllll}\n",
       " cellname & Rawreads & DNAreads & RNAreads & yperx & raw\\_pairs & pairs\\_dedup & pairs\\_clean1 & pairs\\_clean2 & pairs\\_clean3 & inter\\_pairs\\_clean3 & UMIs\\_gene & genes\\_gene & UMIs\\_exon & genes\\_exon & 1m.x & 200k.x & 20k.x & 50k.x & 1m.y & 200k.y & 20k.y & 50k.y & ct\\_reads & atac\\_reads & RNAreadsRatio & pairsPerRead & pairsValidRatio & interPairsRatio\\\\\n",
       " <chr> & <dbl> & <dbl> & <dbl> & <dbl> & <dbl> & <dbl> & <dbl> & <dbl> & <dbl> & <dbl> & <dbl> & <dbl> & <dbl> & <dbl> & <dbl> & <dbl> & <dbl> & <dbl> & <dbl> & <dbl> & <dbl> & <dbl> & <dbl> & <dbl> & <dbl> & <dbl> & <dbl> & <dbl>\\\\\n",
       "\\hline\n",
       "\t R1P10013 & 3.753487 & 3.752322 & 0.0010437 & 0.005022 & 3736619 & 779808 & 768346 & 508560 & 508059 & 27553 & 2152 & 1154 & 299 & 219 & 4.232651 & 8.206307 & 20.8746 & 14.853 & 4.232651 & 8.206307 & 20.8746 & 14.853 & 0.0063276 & 0.007428 & 0.0002780704 & 0.2987445 & 0.1359676 & 0.05423189\\\\\n",
       "\\end{tabular}\n"
      ],
      "text/markdown": [
       "\n",
       "A rowwise_df: 1 x 29\n",
       "\n",
       "| cellname &lt;chr&gt; | Rawreads &lt;dbl&gt; | DNAreads &lt;dbl&gt; | RNAreads &lt;dbl&gt; | yperx &lt;dbl&gt; | raw_pairs &lt;dbl&gt; | pairs_dedup &lt;dbl&gt; | pairs_clean1 &lt;dbl&gt; | pairs_clean2 &lt;dbl&gt; | pairs_clean3 &lt;dbl&gt; | inter_pairs_clean3 &lt;dbl&gt; | UMIs_gene &lt;dbl&gt; | genes_gene &lt;dbl&gt; | UMIs_exon &lt;dbl&gt; | genes_exon &lt;dbl&gt; | 1m.x &lt;dbl&gt; | 200k.x &lt;dbl&gt; | 20k.x &lt;dbl&gt; | 50k.x &lt;dbl&gt; | 1m.y &lt;dbl&gt; | 200k.y &lt;dbl&gt; | 20k.y &lt;dbl&gt; | 50k.y &lt;dbl&gt; | ct_reads &lt;dbl&gt; | atac_reads &lt;dbl&gt; | RNAreadsRatio &lt;dbl&gt; | pairsPerRead &lt;dbl&gt; | pairsValidRatio &lt;dbl&gt; | interPairsRatio &lt;dbl&gt; |\n",
       "|---|---|---|---|---|---|---|---|---|---|---|---|---|---|---|---|---|---|---|---|---|---|---|---|---|---|---|---|---|\n",
       "| R1P10013 | 3.753487 | 3.752322 | 0.0010437 | 0.005022 | 3736619 | 779808 | 768346 | 508560 | 508059 | 27553 | 2152 | 1154 | 299 | 219 | 4.232651 | 8.206307 | 20.8746 | 14.853 | 4.232651 | 8.206307 | 20.8746 | 14.853 | 0.0063276 | 0.007428 | 0.0002780704 | 0.2987445 | 0.1359676 | 0.05423189 |\n",
       "\n"
      ],
      "text/plain": [
       "  cellname Rawreads DNAreads RNAreads  yperx    raw_pairs pairs_dedup\n",
       "1 R1P10013 3.753487 3.752322 0.0010437 0.005022 3736619   779808     \n",
       "  pairs_clean1 pairs_clean2 pairs_clean3 inter_pairs_clean3 UMIs_gene\n",
       "1 768346       508560       508059       27553              2152     \n",
       "  genes_gene UMIs_exon genes_exon 1m.x     200k.x   20k.x   50k.x  1m.y    \n",
       "1 1154       299       219        4.232651 8.206307 20.8746 14.853 4.232651\n",
       "  200k.y   20k.y   50k.y  ct_reads  atac_reads RNAreadsRatio pairsPerRead\n",
       "1 8.206307 20.8746 14.853 0.0063276 0.007428   0.0002780704  0.2987445   \n",
       "  pairsValidRatio interPairsRatio\n",
       "1 0.1359676       0.05423189     "
      ]
     },
     "metadata": {},
     "output_type": "display_data"
    }
   ],
   "source": [
    "print(\"=== CHARM Data Preprocessing Statistics Overview ===\")\n",
    "plot_data"
   ]
  },
  {
   "cell_type": "markdown",
   "metadata": {},
   "source": [
    "---\n",
    "\n",
    "# CHARM Experiment-Specific Analysis\n",
    "\n",
    "**Note: The following sections are only executed for CHARM experiments**"
   ]
  },
  {
   "cell_type": "markdown",
   "metadata": {},
   "source": [
    "## 10. CHARM Multi-omics Data Integration\n",
    "\n",
    "If this is a CHARM experiment, run the following code for multi-omics data integration analysis."
   ]
  },
  {
   "cell_type": "code",
   "execution_count": null,
   "metadata": {
    "vscode": {
     "languageId": "r"
    }
   },
   "outputs": [],
   "source": [
    "cellnames <- plot_data$cellname\n",
    "print(paste(\"Detected\", length(cellnames), \"cells\"))\n",
    "print(\"Cell list:\")\n",
    "print(cellnames)"
   ]
  },
  {
   "cell_type": "markdown",
   "metadata": {},
   "source": [
    "## 11. Seurat Object Creation and Multi-omics Integration\n",
    "\n",
    "Use Signac and Seurat packages for CHARM data multi-omics integration analysis."
   ]
  },
  {
   "cell_type": "code",
   "execution_count": null,
   "metadata": {
    "vscode": {
     "languageId": "r"
    }
   },
   "outputs": [],
   "source": [
    "suppressPackageStartupMessages({\n",
    "  library(Signac)\n",
    "  library(Seurat)\n",
    "  library(EnsDb.Mmusculus.v79)\n",
    "  library(BSgenome.Mmusculus.UCSC.mm10)\n",
    "  library(future)\n",
    "})\n",
    "\n",
    "plan(\"multicore\", workers = 10)\n",
    "\n",
    "# Create ATAC-seq fragment object\n",
    "tryCatch({\n",
    "  atac_fragments <- CreateFragmentObject(\n",
    "    path = \"../result/fragments/atac.fragments.bgz\",\n",
    "    cells = cellnames\n",
    "  )\n",
    "  \n",
    "  print(\"ATAC-seq fragment object created successfully\")\n",
    "}, error = function(e) {\n",
    "  print(paste(\"ATAC-seq fragment object creation failed:\", e$message))\n",
    "  print(\"Please check if fragments file exists and is properly formatted\")\n",
    "})"
   ]
  },
  {
   "cell_type": "markdown",
   "metadata": {},
   "source": [
    "## 12. Data Quality Assessment and Visualization\n",
    "\n",
    "Generate quality control plots and statistical reports."
   ]
  },
  {
   "cell_type": "code",
   "execution_count": null,
   "metadata": {
    "vscode": {
     "languageId": "r"
    }
   },
   "outputs": [],
   "source": [
    "if (nrow(plot_data) > 0) {\n",
    "  # RNA/DNA reads ratio plot\n",
    "  p1 <- ggplot(plot_data, aes(x = cellname, y = RNAreadsRatio)) +\n",
    "    geom_bar(stat = \"identity\", fill = \"steelblue\") +\n",
    "    labs(\n",
    "      title = \"RNA Reads Ratio\",\n",
    "      x = \"Cell\",\n",
    "      y = \"RNA/(RNA+DNA) Reads Ratio\"\n",
    "    ) +\n",
    "    theme_minimal() +\n",
    "    theme(axis.text.x = element_text(angle = 45, hjust = 1))\n",
    "  \n",
    "  # Valid pairs ratio plot\n",
    "  p2 <- ggplot(plot_data, aes(x = cellname, y = pairsValidRatio)) +\n",
    "    geom_bar(stat = \"identity\", fill = \"coral\") +\n",
    "    labs(\n",
    "      title = \"Valid Pairs Ratio\",\n",
    "      x = \"Cell\",\n",
    "      y = \"Valid Pairs/Raw Pairs Ratio\"\n",
    "    ) +\n",
    "    theme_minimal() +\n",
    "    theme(axis.text.x = element_text(angle = 45, hjust = 1))\n",
    "  \n",
    "  combined_plot <- p1 / p2\n",
    "  print(combined_plot)\n",
    "} else {\n",
    "  print(\"No data available for visualization\")\n",
    "}"
   ]
  },
  {
   "cell_type": "markdown",
   "metadata": {},
   "source": [
    "## 13. Summary Report\n",
    "\n",
    "Generate a comprehensive summary report of data preprocessing."
   ]
  },
  {
   "cell_type": "code",
   "execution_count": null,
   "metadata": {
    "vscode": {
     "languageId": "r"
    }
   },
   "outputs": [],
   "source": [
    "cat(\"\\n=== CHARM Data Preprocessing Summary Report ===\\n\")\n",
    "cat(paste(\"Number of processed cells:\", nrow(plot_data), \"\\n\"))\n",
    "\n",
    "if (nrow(plot_data) > 0) {\n",
    "  cat(\"\\n--- Data Quality Statistics ---\\n\")\n",
    "  cat(paste(\"Average raw reads (Gb):\", round(mean(plot_data$Rawreads, na.rm = TRUE), 3), \"\\n\"))\n",
    "  cat(paste(\"Average DNA reads (Gb):\", round(mean(plot_data$DNAreads, na.rm = TRUE), 3), \"\\n\"))\n",
    "  cat(paste(\"Average RNA reads (Gb):\", round(mean(plot_data$RNAreads, na.rm = TRUE), 3), \"\\n\"))\n",
    "  cat(paste(\"Average valid pairs:\", round(mean(plot_data$pairs_clean3, na.rm = TRUE), 0), \"\\n\"))\n",
    "  cat(paste(\"Average detected genes:\", round(mean(plot_data$genes_gene, na.rm = TRUE), 0), \"\\n\"))\n",
    "  cat(paste(\"Average UMI count:\", round(mean(plot_data$UMIs_gene, na.rm = TRUE), 0), \"\\n\"))\n",
    "  \n",
    "  cat(\"\\n--- Quality Control Metrics ---\\n\")\n",
    "  cat(paste(\"Average RNA reads ratio:\", round(mean(plot_data$RNAreadsRatio, na.rm = TRUE), 4), \"\\n\"))\n",
    "  cat(paste(\"Average valid pairs ratio:\", round(mean(plot_data$pairsValidRatio, na.rm = TRUE), 4), \"\\n\"))\n",
    "  cat(paste(\"Average inter-chromosomal pairs ratio:\", round(mean(plot_data$interPairsRatio, na.rm = TRUE), 4), \"\\n\"))\n",
    "} else {\n",
    "  cat(\"Warning: No valid data detected\\n\")\n",
    "}\n",
    "\n",
    "cat(\"\\n=== Analysis Complete ===\\n\")"
   ]
  }
 ],
 "metadata": {
  "kernelspec": {
   "display_name": "R",
   "language": "R",
   "name": "ir"
  },
  "language_info": {
   "codemirror_mode": "r",
   "file_extension": ".r",
   "mimetype": "text/x-r-source",
   "name": "R",
   "pygments_lexer": "r",
   "version": "4.3.0"
  },
  "vscode": {
   "interpreter": {
    "hash": "r"
   }
  }
 },
 "nbformat": 4,
 "nbformat_minor": 4
}

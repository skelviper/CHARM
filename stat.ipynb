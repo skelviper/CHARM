{
 "cells": [
  {
   "cell_type": "code",
   "execution_count": 1,
   "metadata": {
    "vscode": {
     "languageId": "r"
    }
   },
   "outputs": [
    {
     "name": "stderr",
     "output_type": "stream",
     "text": [
      "Warning message:\n",
      "“package ‘tidyverse’ was built under R version 4.2.2”\n",
      "Warning message:\n",
      "“package ‘ggplot2’ was built under R version 4.2.3”\n",
      "Warning message:\n",
      "“package ‘tibble’ was built under R version 4.2.3”\n",
      "Warning message:\n",
      "“package ‘tidyr’ was built under R version 4.2.2”\n",
      "Warning message:\n",
      "“package ‘readr’ was built under R version 4.2.2”\n",
      "Warning message:\n",
      "“package ‘purrr’ was built under R version 4.2.2”\n",
      "Warning message:\n",
      "“package ‘dplyr’ was built under R version 4.2.3”\n",
      "Warning message:\n",
      "“package ‘stringr’ was built under R version 4.2.2”\n",
      "Warning message:\n",
      "“package ‘forcats’ was built under R version 4.2.2”\n",
      "Warning message:\n",
      "“package ‘lubridate’ was built under R version 4.2.2”\n",
      "── \u001b[1mAttaching core tidyverse packages\u001b[22m ──────────────────────── tidyverse 2.0.0 ──\n",
      "\u001b[32m✔\u001b[39m \u001b[34mdplyr    \u001b[39m 1.1.2     \u001b[32m✔\u001b[39m \u001b[34mreadr    \u001b[39m 2.1.4\n",
      "\u001b[32m✔\u001b[39m \u001b[34mforcats  \u001b[39m 1.0.0     \u001b[32m✔\u001b[39m \u001b[34mstringr  \u001b[39m 1.5.0\n",
      "\u001b[32m✔\u001b[39m \u001b[34mggplot2  \u001b[39m 3.4.2     \u001b[32m✔\u001b[39m \u001b[34mtibble   \u001b[39m 3.2.1\n",
      "\u001b[32m✔\u001b[39m \u001b[34mlubridate\u001b[39m 1.9.2     \u001b[32m✔\u001b[39m \u001b[34mtidyr    \u001b[39m 1.3.0\n",
      "\u001b[32m✔\u001b[39m \u001b[34mpurrr    \u001b[39m 1.0.1     \n",
      "── \u001b[1mConflicts\u001b[22m ────────────────────────────────────────── tidyverse_conflicts() ──\n",
      "\u001b[31m✖\u001b[39m \u001b[34mdplyr\u001b[39m::\u001b[32mfilter()\u001b[39m masks \u001b[34mstats\u001b[39m::filter()\n",
      "\u001b[31m✖\u001b[39m \u001b[34mdplyr\u001b[39m::\u001b[32mlag()\u001b[39m    masks \u001b[34mstats\u001b[39m::lag()\n",
      "\u001b[36mℹ\u001b[39m Use the conflicted package (\u001b[3m\u001b[34m<http://conflicted.r-lib.org/>\u001b[39m\u001b[23m) to force all conflicts to become errors\n",
      "Warning message:\n",
      "“package ‘ggpubr’ was built under R version 4.2.2”\n",
      "Warning message:\n",
      "“package ‘yaml’ was built under R version 4.2.2”\n",
      "Warning message:\n",
      "“package ‘patchwork’ was built under R version 4.2.1”\n",
      "Warning message:\n",
      "“\u001b[1m\u001b[22m`read_table2()` was deprecated in readr 2.0.0.\n",
      "\u001b[36mℹ\u001b[39m Please use `read_table()` instead.”\n",
      "\n",
      "\u001b[36m──\u001b[39m \u001b[1mColumn specification\u001b[22m \u001b[36m────────────────────────────────────────────────────────\u001b[39m\n",
      "cols(\n",
      "  X1 = \u001b[31mcol_character()\u001b[39m,\n",
      "  X2 = \u001b[32mcol_double()\u001b[39m\n",
      ")\n",
      "\n",
      "\n",
      "\u001b[36m──\u001b[39m \u001b[1mColumn specification\u001b[22m \u001b[36m────────────────────────────────────────────────────────\u001b[39m\n",
      "cols(\n",
      "  X1 = \u001b[31mcol_character()\u001b[39m,\n",
      "  X2 = \u001b[32mcol_double()\u001b[39m\n",
      ")\n",
      "\n",
      "\n",
      "\u001b[36m──\u001b[39m \u001b[1mColumn specification\u001b[22m \u001b[36m────────────────────────────────────────────────────────\u001b[39m\n",
      "cols(\n",
      "  X1 = \u001b[31mcol_character()\u001b[39m,\n",
      "  X2 = \u001b[32mcol_double()\u001b[39m\n",
      ")\n",
      "\n",
      "\n",
      "\u001b[36m──\u001b[39m \u001b[1mColumn specification\u001b[22m \u001b[36m────────────────────────────────────────────────────────\u001b[39m\n",
      "cols(\n",
      "  X1 = \u001b[31mcol_character()\u001b[39m,\n",
      "  X2 = \u001b[32mcol_double()\u001b[39m\n",
      ")\n",
      "\n",
      "\n",
      "\u001b[36m──\u001b[39m \u001b[1mColumn specification\u001b[22m \u001b[36m────────────────────────────────────────────────────────\u001b[39m\n",
      "cols(\n",
      "  X1 = \u001b[31mcol_character()\u001b[39m,\n",
      "  X2 = \u001b[32mcol_double()\u001b[39m\n",
      ")\n",
      "\n",
      "\n",
      "\u001b[36m──\u001b[39m \u001b[1mColumn specification\u001b[22m \u001b[36m────────────────────────────────────────────────────────\u001b[39m\n",
      "cols(\n",
      "  X1 = \u001b[31mcol_character()\u001b[39m,\n",
      "  X2 = \u001b[32mcol_double()\u001b[39m\n",
      ")\n",
      "\n",
      "\n",
      "\u001b[36m──\u001b[39m \u001b[1mColumn specification\u001b[22m \u001b[36m────────────────────────────────────────────────────────\u001b[39m\n",
      "cols(\n",
      "  X1 = \u001b[31mcol_character()\u001b[39m,\n",
      "  X2 = \u001b[32mcol_double()\u001b[39m\n",
      ")\n",
      "\n",
      "\n",
      "\u001b[36m──\u001b[39m \u001b[1mColumn specification\u001b[22m \u001b[36m────────────────────────────────────────────────────────\u001b[39m\n",
      "cols(\n",
      "  X1 = \u001b[31mcol_character()\u001b[39m,\n",
      "  X2 = \u001b[32mcol_double()\u001b[39m\n",
      ")\n",
      "\n",
      "\n",
      "\u001b[36m──\u001b[39m \u001b[1mColumn specification\u001b[22m \u001b[36m────────────────────────────────────────────────────────\u001b[39m\n",
      "cols(\n",
      "  X1 = \u001b[31mcol_character()\u001b[39m,\n",
      "  X2 = \u001b[32mcol_double()\u001b[39m\n",
      ")\n",
      "\n",
      "\n",
      "\u001b[36m──\u001b[39m \u001b[1mColumn specification\u001b[22m \u001b[36m────────────────────────────────────────────────────────\u001b[39m\n",
      "cols(\n",
      "  X1 = \u001b[31mcol_character()\u001b[39m,\n",
      "  X2 = \u001b[32mcol_double()\u001b[39m\n",
      ")\n",
      "\n",
      "\n",
      "\u001b[36m──\u001b[39m \u001b[1mColumn specification\u001b[22m \u001b[36m────────────────────────────────────────────────────────\u001b[39m\n",
      "cols(\n",
      "  gene = \u001b[31mcol_character()\u001b[39m,\n",
      "  MB1 = \u001b[32mcol_double()\u001b[39m,\n",
      "  MB2 = \u001b[32mcol_double()\u001b[39m,\n",
      "  MB3 = \u001b[32mcol_double()\u001b[39m,\n",
      "  MB4 = \u001b[32mcol_double()\u001b[39m,\n",
      "  MB5 = \u001b[32mcol_double()\u001b[39m,\n",
      "  MB6 = \u001b[32mcol_double()\u001b[39m,\n",
      "  MB7 = \u001b[32mcol_double()\u001b[39m,\n",
      "  MB7356 = \u001b[32mcol_double()\u001b[39m,\n",
      "  MB8 = \u001b[32mcol_double()\u001b[39m,\n",
      "  MB8356 = \u001b[32mcol_double()\u001b[39m,\n",
      "  MBNo7 = \u001b[32mcol_double()\u001b[39m,\n",
      "  MBNo8 = \u001b[32mcol_double()\u001b[39m\n",
      ")\n",
      "\n",
      "\n",
      "\u001b[36m──\u001b[39m \u001b[1mColumn specification\u001b[22m \u001b[36m────────────────────────────────────────────────────────\u001b[39m\n",
      "cols(\n",
      "  gene = \u001b[31mcol_character()\u001b[39m,\n",
      "  MB1 = \u001b[32mcol_double()\u001b[39m,\n",
      "  MB2 = \u001b[32mcol_double()\u001b[39m,\n",
      "  MB3 = \u001b[32mcol_double()\u001b[39m,\n",
      "  MB4 = \u001b[32mcol_double()\u001b[39m,\n",
      "  MB5 = \u001b[32mcol_double()\u001b[39m,\n",
      "  MB6 = \u001b[32mcol_double()\u001b[39m,\n",
      "  MB7 = \u001b[32mcol_double()\u001b[39m,\n",
      "  MB7356 = \u001b[32mcol_double()\u001b[39m,\n",
      "  MB8 = \u001b[32mcol_double()\u001b[39m,\n",
      "  MB8356 = \u001b[32mcol_double()\u001b[39m,\n",
      "  MBNo7 = \u001b[32mcol_double()\u001b[39m,\n",
      "  MBNo8 = \u001b[32mcol_double()\u001b[39m\n",
      ")\n",
      "\n",
      "\n",
      "\u001b[36m──\u001b[39m \u001b[1mColumn specification\u001b[22m \u001b[36m────────────────────────────────────────────────────────\u001b[39m\n",
      "cols(\n",
      "  X1 = \u001b[31mcol_character()\u001b[39m,\n",
      "  X2 = \u001b[31mcol_character()\u001b[39m,\n",
      "  X3 = \u001b[31mcol_character()\u001b[39m,\n",
      "  X4 = \u001b[31mcol_character()\u001b[39m,\n",
      "  X5 = \u001b[32mcol_double()\u001b[39m\n",
      ")\n",
      "\n",
      "\u001b[1m\u001b[22mJoining with `by = join_by(cellname)`\n",
      "\u001b[1mRows: \u001b[22m\u001b[34m12\u001b[39m \u001b[1mColumns: \u001b[22m\u001b[34m2\u001b[39m\n",
      "\u001b[36m──\u001b[39m \u001b[1mColumn specification\u001b[22m \u001b[36m────────────────────────────────────────────────────────\u001b[39m\n",
      "\u001b[1mDelimiter:\u001b[22m \",\"\n",
      "\u001b[31mchr\u001b[39m (1): X1\n",
      "\u001b[32mdbl\u001b[39m (1): X2\n",
      "\n",
      "\u001b[36mℹ\u001b[39m Use `spec()` to retrieve the full column specification for this data.\n",
      "\u001b[36mℹ\u001b[39m Specify the column types or set `show_col_types = FALSE` to quiet this message.\n",
      "\u001b[1m\u001b[22mJoining with `by = join_by(cellname)`\n",
      "\u001b[1mRows: \u001b[22m\u001b[34m12\u001b[39m \u001b[1mColumns: \u001b[22m\u001b[34m2\u001b[39m\n",
      "\u001b[36m──\u001b[39m \u001b[1mColumn specification\u001b[22m \u001b[36m────────────────────────────────────────────────────────\u001b[39m\n",
      "\u001b[1mDelimiter:\u001b[22m \",\"\n",
      "\u001b[31mchr\u001b[39m (1): X1\n",
      "\u001b[32mdbl\u001b[39m (1): X2\n",
      "\n",
      "\u001b[36mℹ\u001b[39m Use `spec()` to retrieve the full column specification for this data.\n",
      "\u001b[36mℹ\u001b[39m Specify the column types or set `show_col_types = FALSE` to quiet this message.\n",
      "\u001b[1m\u001b[22mJoining with `by = join_by(cellname)`\n",
      "\u001b[1m\u001b[22mJoining with `by = join_by(cellname)`\n"
     ]
    }
   ],
   "source": [
    "library(tidyverse)\n",
    "library(ggpubr)\n",
    "library(yaml)\n",
    "library(patchwork)\n",
    "\n",
    "#read config\n",
    "config <- read_yaml(file = \"../CHARM/config.yaml\")\n",
    "\n",
    "#Common\n",
    "Raw <- read_table2(\"../stat/raw.fq.stat\",col_names=F) %>% arrange(X1) %>% rowwise() %>% mutate(X2 = X2/4*300/1000000000,X1 = strsplit(X1,split = \"/\")[[1]][3],X1 = strsplit(X1,split = \"_\")[[1]][1])\n",
    "DNA <- read_table2(\"../stat/dna.fq.stat\",col_names=F) %>% arrange(X1) %>% rowwise()%>% mutate(X2 = X2/4*300/1000000000,X1 = strsplit(X1,split = \"/\")[[1]][3])\n",
    "RNA <- read_table2(\"../stat/rna.fq.stat\",col_names=F) %>% arrange(X1) %>% rowwise() %>% mutate(X2 = X2/4*300/1000000000,X1 = strsplit(X1,split = \"/\")[[1]][3])\n",
    "\n",
    "raw_pairs <- read_table2(\"../stat/raw.pairs.stat\",col_names=F) %>% arrange(X1) %>% rowwise() %>% mutate(X1 = strsplit(X1,split = \"/\")[[1]][3])\n",
    "pairs_dedup <- read_table2(\"../stat/pairs.dedup.stat\",col_names=F) %>% arrange(X1) %>% rowwise() %>% mutate(X1 = strsplit(X1,split = \"/\")[[1]][3])\n",
    "\n",
    "pairs_c1 <- read_table2(\"../stat/pairs.c1.stat\",col_names=F)%>% arrange(X1) %>%rowwise() %>% mutate(X1 = strsplit(X1,split = \"/\")[[1]][5]) %>% mutate(X1 = str_replace(X1,\".pairs.gz\",\"\"))\n",
    "pairs_c12 <- read_table2(\"../stat/pairs.c12.stat\",col_names=F)%>% arrange(X1) %>%rowwise() %>% mutate(X1 = strsplit(X1,split = \"/\")[[1]][5]) %>% mutate(X1 = str_replace(X1,\".pairs.gz\",\"\"))\n",
    "pairs_c123 <- read_table2(\"../stat/pairs.c123.stat\",col_names=F)%>% arrange(X1) %>%rowwise() %>% mutate(X1 = strsplit(X1,split = \"/\")[[1]][5]) %>% mutate(X1 = str_replace(X1,\".pairs.gz\",\"\"))\n",
    "inter_pairs_c123 <- read_table2(file = \"../stat/inter.pairs.c123.stat\",col_names = F) %>% arrange(X1) %>%rowwise() %>% mutate(X1 = strsplit(X1,split = \"/\")[[1]][5]) %>% mutate(X1 = str_replace(X1,\".pairs.gz\",\"\"))\n",
    "\n",
    "yperx <- read_table2(\"../stat/yperx.stat\",col_names=F) %>% arrange(X1) %>% rowwise() %>% mutate(X1 = strsplit(X1,split = \"/\")[[1]][2])\n",
    "stat <- Raw %>% left_join(DNA,by=\"X1\") %>% left_join(RNA,by=\"X1\") %>% left_join(yperx,by=\"X1\") %>% left_join(raw_pairs,by=\"X1\") %>% left_join(pairs_dedup,by=\"X1\") %>% \n",
    "    left_join(pairs_c1,by=\"X1\") %>% left_join(pairs_c12,by=\"X1\")%>% left_join(pairs_c123,by=\"X1\") %>% left_join(inter_pairs_c123,by=\"X1\")\n",
    "RNAres <- read_table2(\"../result/RNA_Res/counts.gene.total.format.tsv\")\n",
    "featureStat <- cbind(as.data.frame(colSums(RNAres %>% select(-gene))),colSums(RNAres %>% select(-gene) != 0)) %>% rownames_to_column(\"X1\")\n",
    "RNAresExon <- read_table2(\"../result/RNA_Res/counts.exon.total.format.tsv\")\n",
    "featureStatExon <- cbind(as.data.frame(colSums(RNAresExon %>% select(-gene))),colSums(RNAresExon %>% select(-gene) != 0))  %>% rownames_to_column(\"X1\")\n",
    "\n",
    "if(config$if_RNA_snp_split){\n",
    "    RNAresGenome1 <- read_table2(\"../result/RNA_Res/counts.gene.genome1.tsv\")\n",
    "    RNAresGenome2 <- read_table2(\"../result/RNA_Res/counts.gene.genome2.tsv\")\n",
    "    featureStatGenome1 <- cbind(as.data.frame(colSums(RNAresGenome1 %>% select(-gene))),colSums(RNAresGenome1 %>% select(-gene) != 0)) %>% rownames_to_column(\"X1\")\n",
    "    featureStatGenome2 <- cbind(as.data.frame(colSums(RNAresGenome2 %>% select(-gene))),colSums(RNAresGenome2 %>% select(-gene) != 0)) %>% rownames_to_column(\"X1\")\n",
    "    stat <- stat %>% left_join(featureStat,by=\"X1\") %>% left_join(featureStatExon,by=\"X1\") %>% left_join(featureStatGenome1,by=\"X1\")  %>% left_join(featureStatGenome2,by=\"X1\")\n",
    "    names(stat) <- c(\"cellname\",\"Rawreads\",\"DNAreads\",\"RNAreads\",\"yperx\",\"raw_pairs\",\"pairs_dedup\",\"pairs_clean1\",\"pairs_clean2\",\"pairs_clean3\",\"inter_pairs_clean3\",\n",
    "                     \"UMIs_gene\",\"genes_gene\",\"UMIs_exon\",\"genes_exon\",\"UMIs_gene_genome1\",\"genes_gene_genome1\",\"UMIs_gene_genome2\",\"genes_gene_genome2\")\n",
    "} else{\n",
    "    stat <- stat %>% left_join(featureStat,by=\"X1\") %>% left_join(featureStatExon,by=\"X1\") \n",
    "    names(stat) <- c(\"cellname\",\"Rawreads\",\"DNAreads\",\"RNAreads\",\"yperx\",\"raw_pairs\",\"pairs_dedup\",\"pairs_clean1\",\"pairs_clean2\",\"pairs_clean3\",\"inter_pairs_clean3\",\n",
    "                     \"UMIs_gene\",\"genes_gene\",\"UMIs_exon\",\"genes_exon\")\n",
    "}\n",
    "\n",
    "if(config$if_structure){\n",
    "    rmsd <- read_table2(\"../stat/rmsd.info\",col_names = F) %>% rowwise() %>% mutate(X1=str_split(X1,pattern = fixed(\"/\")),cellname = X1[1], res = str_split(X1[3], fixed(\".\"))[[1]][2],TOP3_RMSD = X5) %>% select(cellname,res,TOP3_RMSD) %>% spread(res,TOP3_RMSD) %>% arrange(cellname)\n",
    "    stat <- stat %>% left_join(rmsd)\n",
    "}\n",
    "\n",
    "if (config$if_charm){\n",
    "    reads <- tibble(\"cellname\"=NA)\n",
    "    for(i in 1:length(names(config$split))){\n",
    "        temp <- read_csv(paste0(\"../stat/\",names(config$split)[i],\".read.stat\"),col_names = F) %>% rowwise() %>% mutate(X2 = X2*300/1000000000)\n",
    "        names(temp) <- c(\"cellname\",paste0(names(config$split)[i],\"_reads\"))\n",
    "        reads <- reads %>% full_join(temp)\n",
    "    }\n",
    "    reads <- reads %>% filter(!is.na(cellname))\n",
    "    stat <- stat %>% full_join(reads)\n",
    "}"
   ]
  },
  {
   "cell_type": "code",
   "execution_count": 2,
   "metadata": {
    "vscode": {
     "languageId": "r"
    }
   },
   "outputs": [],
   "source": [
    "plot <- stat %>% mutate(RNAreadsRatio = RNAreads/(RNAreads+DNAreads),\n",
    "                        pairsPerRead = raw_pairs/DNAreads/1000000000*300,\n",
    "                        pairsValidRatio = pairs_clean3/raw_pairs,\n",
    "                        interPairsRatio = inter_pairs_clean3/pairs_clean3) \n",
    "plot[is.na(plot)]<-0"
   ]
  },
  {
   "cell_type": "code",
   "execution_count": 3,
   "metadata": {
    "vscode": {
     "languageId": "r"
    }
   },
   "outputs": [
    {
     "data": {
      "text/html": [
       "<table class=\"dataframe\">\n",
       "<caption>A rowwise_df: 12 × 25</caption>\n",
       "<thead>\n",
       "\t<tr><th scope=col>cellname</th><th scope=col>Rawreads</th><th scope=col>DNAreads</th><th scope=col>RNAreads</th><th scope=col>yperx</th><th scope=col>raw_pairs</th><th scope=col>pairs_dedup</th><th scope=col>pairs_clean1</th><th scope=col>pairs_clean2</th><th scope=col>pairs_clean3</th><th scope=col>inter_pairs_clean3</th><th scope=col>UMIs_gene</th><th scope=col>genes_gene</th><th scope=col>UMIs_exon</th><th scope=col>genes_exon</th><th scope=col>1m</th><th scope=col>200k</th><th scope=col>20k</th><th scope=col>50k</th><th scope=col>ct_reads</th><th scope=col>atac_reads</th><th scope=col>RNAreadsRatio</th><th scope=col>pairsPerRead</th><th scope=col>pairsValidRatio</th><th scope=col>interPairsRatio</th></tr>\n",
       "\t<tr><th scope=col>&lt;chr&gt;</th><th scope=col>&lt;dbl&gt;</th><th scope=col>&lt;dbl&gt;</th><th scope=col>&lt;dbl&gt;</th><th scope=col>&lt;dbl&gt;</th><th scope=col>&lt;dbl&gt;</th><th scope=col>&lt;dbl&gt;</th><th scope=col>&lt;dbl&gt;</th><th scope=col>&lt;dbl&gt;</th><th scope=col>&lt;dbl&gt;</th><th scope=col>&lt;dbl&gt;</th><th scope=col>&lt;dbl&gt;</th><th scope=col>&lt;dbl&gt;</th><th scope=col>&lt;dbl&gt;</th><th scope=col>&lt;dbl&gt;</th><th scope=col>&lt;dbl&gt;</th><th scope=col>&lt;dbl&gt;</th><th scope=col>&lt;dbl&gt;</th><th scope=col>&lt;dbl&gt;</th><th scope=col>&lt;dbl&gt;</th><th scope=col>&lt;dbl&gt;</th><th scope=col>&lt;dbl&gt;</th><th scope=col>&lt;dbl&gt;</th><th scope=col>&lt;dbl&gt;</th><th scope=col>&lt;dbl&gt;</th></tr>\n",
       "</thead>\n",
       "<tbody>\n",
       "\t<tr><td>MB1   </td><td>2.494011</td><td>2.393187</td><td>0.0873459</td><td>0.002327</td><td>2910488</td><td>685376</td><td>674428</td><td>596313</td><td>596187</td><td>279843</td><td> 9142</td><td>4685</td><td>1718</td><td>1178</td><td>1.642159e-03</td><td>0.03912695</td><td>0.3448013</td><td>0.13214933</td><td>0.24533452</td><td>0.11751847</td><td>0.03521255</td><td>0.3648467</td><td>0.2048409</td><td>0.4693880</td></tr>\n",
       "\t<tr><td>MB2   </td><td>2.034532</td><td>1.962729</td><td>0.0619401</td><td>0.001720</td><td>2401376</td><td>602073</td><td>593798</td><td>521774</td><td>521643</td><td>272253</td><td>10367</td><td>4783</td><td>1880</td><td>1310</td><td>7.430388e-03</td><td>0.07782958</td><td>0.6712903</td><td>0.31030180</td><td>0.22678538</td><td>0.11393543</td><td>0.03059271</td><td>0.3670466</td><td>0.2172267</td><td>0.5219144</td></tr>\n",
       "\t<tr><td>MB3   </td><td>2.999379</td><td>2.867744</td><td>0.1151706</td><td>0.002423</td><td>3468537</td><td>682969</td><td>672660</td><td>599814</td><td>599677</td><td>278808</td><td>13130</td><td>5224</td><td>2234</td><td>1474</td><td>5.147521e-03</td><td>0.03428305</td><td>0.3837553</td><td>0.14880461</td><td>0.21662377</td><td>0.20520105</td><td>0.03861008</td><td>0.3628500</td><td>0.1728905</td><td>0.4649303</td></tr>\n",
       "\t<tr><td>MB4   </td><td>4.196399</td><td>4.022158</td><td>0.1510638</td><td>0.001896</td><td>5158787</td><td>916423</td><td>899865</td><td>839910</td><td>839805</td><td>433778</td><td> 6683</td><td>4087</td><td>1318</td><td> 885</td><td>6.300549e-05</td><td>0.02186469</td><td>0.1627870</td><td>0.05802599</td><td>0.31236683</td><td>0.20540453</td><td>0.03619836</td><td>0.3847775</td><td>0.1627912</td><td>0.5165223</td></tr>\n",
       "\t<tr><td>MB5   </td><td>2.711750</td><td>2.581048</td><td>0.1134639</td><td>0.001417</td><td>3177252</td><td>712451</td><td>701751</td><td>634689</td><td>634566</td><td>339524</td><td>10600</td><td>4925</td><td>2033</td><td>1360</td><td>8.846797e-03</td><td>0.03298787</td><td>0.4387889</td><td>0.19488069</td><td>0.20823885</td><td>0.14618648</td><td>0.04210927</td><td>0.3692980</td><td>0.1997216</td><td>0.5350492</td></tr>\n",
       "\t<tr><td>MB6   </td><td>2.874636</td><td>2.688601</td><td>0.1619514</td><td>0.001124</td><td>3250005</td><td>679111</td><td>665478</td><td>592105</td><td>591992</td><td>295108</td><td>10678</td><td>5554</td><td>2280</td><td>1414</td><td>7.373894e-01</td><td>1.25648987</td><td>4.0474771</td><td>2.81629619</td><td>0.25904843</td><td>0.14747130</td><td>0.05681404</td><td>0.3626427</td><td>0.1821511</td><td>0.4985000</td></tr>\n",
       "\t<tr><td>MB7   </td><td>2.630140</td><td>2.524951</td><td>0.0909624</td><td>0.001603</td><td>3060552</td><td>697815</td><td>688051</td><td>605115</td><td>604953</td><td>273101</td><td>10031</td><td>4922</td><td>1959</td><td>1388</td><td>8.243509e-03</td><td>0.05114732</td><td>0.4068472</td><td>0.18644780</td><td>0.23200995</td><td>0.16223640</td><td>0.03477270</td><td>0.3636369</td><td>0.1976614</td><td>0.4514417</td></tr>\n",
       "\t<tr><td>MB7356</td><td>2.758682</td><td>2.569281</td><td>0.1600440</td><td>0.001883</td><td>3164363</td><td>766292</td><td>755236</td><td>678838</td><td>678663</td><td>308769</td><td>12056</td><td>5417</td><td>2424</td><td>1610</td><td>1.452542e-02</td><td>0.04998893</td><td>0.3852895</td><td>0.16976970</td><td>0.17614747</td><td>0.12817680</td><td>0.05863867</td><td>0.3694843</td><td>0.2144707</td><td>0.4549666</td></tr>\n",
       "\t<tr><td>MB8   </td><td>2.465047</td><td>2.365851</td><td>0.0863178</td><td>0.001484</td><td>2872706</td><td>668832</td><td>658824</td><td>582067</td><td>581919</td><td>279777</td><td>12931</td><td>5284</td><td>2219</td><td>1566</td><td>1.917353e-02</td><td>0.06603174</td><td>0.5052429</td><td>0.23764219</td><td>0.30420412</td><td>0.13175872</td><td>0.03520059</td><td>0.3642713</td><td>0.2025682</td><td>0.4807834</td></tr>\n",
       "\t<tr><td>MB8356</td><td>1.897423</td><td>1.777998</td><td>0.1014048</td><td>0.001986</td><td>2218074</td><td>705735</td><td>696242</td><td>621468</td><td>621336</td><td>293174</td><td>13953</td><td>5568</td><td>2480</td><td>1721</td><td>1.114154e-02</td><td>0.05218865</td><td>0.4401820</td><td>0.19499902</td><td>0.16142887</td><td>0.07011278</td><td>0.05395585</td><td>0.3742536</td><td>0.2801241</td><td>0.4718445</td></tr>\n",
       "\t<tr><td>MBNo7 </td><td>1.195243</td><td>1.066467</td><td>0.1090977</td><td>0.002821</td><td>1427705</td><td>584633</td><td>578494</td><td>481914</td><td>481785</td><td>189921</td><td>11039</td><td>5217</td><td>2308</td><td>1590</td><td>2.079833e-02</td><td>0.05692915</td><td>0.5062474</td><td>0.22580799</td><td>0.00359865</td><td>0.00291780</td><td>0.09280448</td><td>0.4016171</td><td>0.3374542</td><td>0.3942028</td></tr>\n",
       "\t<tr><td>MBNo8 </td><td>1.620029</td><td>1.356173</td><td>0.2268942</td><td>0.002955</td><td>1865531</td><td>763019</td><td>753783</td><td>680896</td><td>680738</td><td>309858</td><td>17610</td><td>6445</td><td>3440</td><td>2210</td><td>7.666887e-03</td><td>0.03367998</td><td>0.3756680</td><td>0.17348280</td><td>0.00738045</td><td>0.00379905</td><td>0.14332571</td><td>0.4126755</td><td>0.3649031</td><td>0.4551795</td></tr>\n",
       "</tbody>\n",
       "</table>\n"
      ],
      "text/latex": [
       "A rowwise\\_df: 12 × 25\n",
       "\\begin{tabular}{lllllllllllllllllllllllll}\n",
       " cellname & Rawreads & DNAreads & RNAreads & yperx & raw\\_pairs & pairs\\_dedup & pairs\\_clean1 & pairs\\_clean2 & pairs\\_clean3 & inter\\_pairs\\_clean3 & UMIs\\_gene & genes\\_gene & UMIs\\_exon & genes\\_exon & 1m & 200k & 20k & 50k & ct\\_reads & atac\\_reads & RNAreadsRatio & pairsPerRead & pairsValidRatio & interPairsRatio\\\\\n",
       " <chr> & <dbl> & <dbl> & <dbl> & <dbl> & <dbl> & <dbl> & <dbl> & <dbl> & <dbl> & <dbl> & <dbl> & <dbl> & <dbl> & <dbl> & <dbl> & <dbl> & <dbl> & <dbl> & <dbl> & <dbl> & <dbl> & <dbl> & <dbl> & <dbl>\\\\\n",
       "\\hline\n",
       "\t MB1    & 2.494011 & 2.393187 & 0.0873459 & 0.002327 & 2910488 & 685376 & 674428 & 596313 & 596187 & 279843 &  9142 & 4685 & 1718 & 1178 & 1.642159e-03 & 0.03912695 & 0.3448013 & 0.13214933 & 0.24533452 & 0.11751847 & 0.03521255 & 0.3648467 & 0.2048409 & 0.4693880\\\\\n",
       "\t MB2    & 2.034532 & 1.962729 & 0.0619401 & 0.001720 & 2401376 & 602073 & 593798 & 521774 & 521643 & 272253 & 10367 & 4783 & 1880 & 1310 & 7.430388e-03 & 0.07782958 & 0.6712903 & 0.31030180 & 0.22678538 & 0.11393543 & 0.03059271 & 0.3670466 & 0.2172267 & 0.5219144\\\\\n",
       "\t MB3    & 2.999379 & 2.867744 & 0.1151706 & 0.002423 & 3468537 & 682969 & 672660 & 599814 & 599677 & 278808 & 13130 & 5224 & 2234 & 1474 & 5.147521e-03 & 0.03428305 & 0.3837553 & 0.14880461 & 0.21662377 & 0.20520105 & 0.03861008 & 0.3628500 & 0.1728905 & 0.4649303\\\\\n",
       "\t MB4    & 4.196399 & 4.022158 & 0.1510638 & 0.001896 & 5158787 & 916423 & 899865 & 839910 & 839805 & 433778 &  6683 & 4087 & 1318 &  885 & 6.300549e-05 & 0.02186469 & 0.1627870 & 0.05802599 & 0.31236683 & 0.20540453 & 0.03619836 & 0.3847775 & 0.1627912 & 0.5165223\\\\\n",
       "\t MB5    & 2.711750 & 2.581048 & 0.1134639 & 0.001417 & 3177252 & 712451 & 701751 & 634689 & 634566 & 339524 & 10600 & 4925 & 2033 & 1360 & 8.846797e-03 & 0.03298787 & 0.4387889 & 0.19488069 & 0.20823885 & 0.14618648 & 0.04210927 & 0.3692980 & 0.1997216 & 0.5350492\\\\\n",
       "\t MB6    & 2.874636 & 2.688601 & 0.1619514 & 0.001124 & 3250005 & 679111 & 665478 & 592105 & 591992 & 295108 & 10678 & 5554 & 2280 & 1414 & 7.373894e-01 & 1.25648987 & 4.0474771 & 2.81629619 & 0.25904843 & 0.14747130 & 0.05681404 & 0.3626427 & 0.1821511 & 0.4985000\\\\\n",
       "\t MB7    & 2.630140 & 2.524951 & 0.0909624 & 0.001603 & 3060552 & 697815 & 688051 & 605115 & 604953 & 273101 & 10031 & 4922 & 1959 & 1388 & 8.243509e-03 & 0.05114732 & 0.4068472 & 0.18644780 & 0.23200995 & 0.16223640 & 0.03477270 & 0.3636369 & 0.1976614 & 0.4514417\\\\\n",
       "\t MB7356 & 2.758682 & 2.569281 & 0.1600440 & 0.001883 & 3164363 & 766292 & 755236 & 678838 & 678663 & 308769 & 12056 & 5417 & 2424 & 1610 & 1.452542e-02 & 0.04998893 & 0.3852895 & 0.16976970 & 0.17614747 & 0.12817680 & 0.05863867 & 0.3694843 & 0.2144707 & 0.4549666\\\\\n",
       "\t MB8    & 2.465047 & 2.365851 & 0.0863178 & 0.001484 & 2872706 & 668832 & 658824 & 582067 & 581919 & 279777 & 12931 & 5284 & 2219 & 1566 & 1.917353e-02 & 0.06603174 & 0.5052429 & 0.23764219 & 0.30420412 & 0.13175872 & 0.03520059 & 0.3642713 & 0.2025682 & 0.4807834\\\\\n",
       "\t MB8356 & 1.897423 & 1.777998 & 0.1014048 & 0.001986 & 2218074 & 705735 & 696242 & 621468 & 621336 & 293174 & 13953 & 5568 & 2480 & 1721 & 1.114154e-02 & 0.05218865 & 0.4401820 & 0.19499902 & 0.16142887 & 0.07011278 & 0.05395585 & 0.3742536 & 0.2801241 & 0.4718445\\\\\n",
       "\t MBNo7  & 1.195243 & 1.066467 & 0.1090977 & 0.002821 & 1427705 & 584633 & 578494 & 481914 & 481785 & 189921 & 11039 & 5217 & 2308 & 1590 & 2.079833e-02 & 0.05692915 & 0.5062474 & 0.22580799 & 0.00359865 & 0.00291780 & 0.09280448 & 0.4016171 & 0.3374542 & 0.3942028\\\\\n",
       "\t MBNo8  & 1.620029 & 1.356173 & 0.2268942 & 0.002955 & 1865531 & 763019 & 753783 & 680896 & 680738 & 309858 & 17610 & 6445 & 3440 & 2210 & 7.666887e-03 & 0.03367998 & 0.3756680 & 0.17348280 & 0.00738045 & 0.00379905 & 0.14332571 & 0.4126755 & 0.3649031 & 0.4551795\\\\\n",
       "\\end{tabular}\n"
      ],
      "text/markdown": [
       "\n",
       "A rowwise_df: 12 × 25\n",
       "\n",
       "| cellname &lt;chr&gt; | Rawreads &lt;dbl&gt; | DNAreads &lt;dbl&gt; | RNAreads &lt;dbl&gt; | yperx &lt;dbl&gt; | raw_pairs &lt;dbl&gt; | pairs_dedup &lt;dbl&gt; | pairs_clean1 &lt;dbl&gt; | pairs_clean2 &lt;dbl&gt; | pairs_clean3 &lt;dbl&gt; | inter_pairs_clean3 &lt;dbl&gt; | UMIs_gene &lt;dbl&gt; | genes_gene &lt;dbl&gt; | UMIs_exon &lt;dbl&gt; | genes_exon &lt;dbl&gt; | 1m &lt;dbl&gt; | 200k &lt;dbl&gt; | 20k &lt;dbl&gt; | 50k &lt;dbl&gt; | ct_reads &lt;dbl&gt; | atac_reads &lt;dbl&gt; | RNAreadsRatio &lt;dbl&gt; | pairsPerRead &lt;dbl&gt; | pairsValidRatio &lt;dbl&gt; | interPairsRatio &lt;dbl&gt; |\n",
       "|---|---|---|---|---|---|---|---|---|---|---|---|---|---|---|---|---|---|---|---|---|---|---|---|---|\n",
       "| MB1    | 2.494011 | 2.393187 | 0.0873459 | 0.002327 | 2910488 | 685376 | 674428 | 596313 | 596187 | 279843 |  9142 | 4685 | 1718 | 1178 | 1.642159e-03 | 0.03912695 | 0.3448013 | 0.13214933 | 0.24533452 | 0.11751847 | 0.03521255 | 0.3648467 | 0.2048409 | 0.4693880 |\n",
       "| MB2    | 2.034532 | 1.962729 | 0.0619401 | 0.001720 | 2401376 | 602073 | 593798 | 521774 | 521643 | 272253 | 10367 | 4783 | 1880 | 1310 | 7.430388e-03 | 0.07782958 | 0.6712903 | 0.31030180 | 0.22678538 | 0.11393543 | 0.03059271 | 0.3670466 | 0.2172267 | 0.5219144 |\n",
       "| MB3    | 2.999379 | 2.867744 | 0.1151706 | 0.002423 | 3468537 | 682969 | 672660 | 599814 | 599677 | 278808 | 13130 | 5224 | 2234 | 1474 | 5.147521e-03 | 0.03428305 | 0.3837553 | 0.14880461 | 0.21662377 | 0.20520105 | 0.03861008 | 0.3628500 | 0.1728905 | 0.4649303 |\n",
       "| MB4    | 4.196399 | 4.022158 | 0.1510638 | 0.001896 | 5158787 | 916423 | 899865 | 839910 | 839805 | 433778 |  6683 | 4087 | 1318 |  885 | 6.300549e-05 | 0.02186469 | 0.1627870 | 0.05802599 | 0.31236683 | 0.20540453 | 0.03619836 | 0.3847775 | 0.1627912 | 0.5165223 |\n",
       "| MB5    | 2.711750 | 2.581048 | 0.1134639 | 0.001417 | 3177252 | 712451 | 701751 | 634689 | 634566 | 339524 | 10600 | 4925 | 2033 | 1360 | 8.846797e-03 | 0.03298787 | 0.4387889 | 0.19488069 | 0.20823885 | 0.14618648 | 0.04210927 | 0.3692980 | 0.1997216 | 0.5350492 |\n",
       "| MB6    | 2.874636 | 2.688601 | 0.1619514 | 0.001124 | 3250005 | 679111 | 665478 | 592105 | 591992 | 295108 | 10678 | 5554 | 2280 | 1414 | 7.373894e-01 | 1.25648987 | 4.0474771 | 2.81629619 | 0.25904843 | 0.14747130 | 0.05681404 | 0.3626427 | 0.1821511 | 0.4985000 |\n",
       "| MB7    | 2.630140 | 2.524951 | 0.0909624 | 0.001603 | 3060552 | 697815 | 688051 | 605115 | 604953 | 273101 | 10031 | 4922 | 1959 | 1388 | 8.243509e-03 | 0.05114732 | 0.4068472 | 0.18644780 | 0.23200995 | 0.16223640 | 0.03477270 | 0.3636369 | 0.1976614 | 0.4514417 |\n",
       "| MB7356 | 2.758682 | 2.569281 | 0.1600440 | 0.001883 | 3164363 | 766292 | 755236 | 678838 | 678663 | 308769 | 12056 | 5417 | 2424 | 1610 | 1.452542e-02 | 0.04998893 | 0.3852895 | 0.16976970 | 0.17614747 | 0.12817680 | 0.05863867 | 0.3694843 | 0.2144707 | 0.4549666 |\n",
       "| MB8    | 2.465047 | 2.365851 | 0.0863178 | 0.001484 | 2872706 | 668832 | 658824 | 582067 | 581919 | 279777 | 12931 | 5284 | 2219 | 1566 | 1.917353e-02 | 0.06603174 | 0.5052429 | 0.23764219 | 0.30420412 | 0.13175872 | 0.03520059 | 0.3642713 | 0.2025682 | 0.4807834 |\n",
       "| MB8356 | 1.897423 | 1.777998 | 0.1014048 | 0.001986 | 2218074 | 705735 | 696242 | 621468 | 621336 | 293174 | 13953 | 5568 | 2480 | 1721 | 1.114154e-02 | 0.05218865 | 0.4401820 | 0.19499902 | 0.16142887 | 0.07011278 | 0.05395585 | 0.3742536 | 0.2801241 | 0.4718445 |\n",
       "| MBNo7  | 1.195243 | 1.066467 | 0.1090977 | 0.002821 | 1427705 | 584633 | 578494 | 481914 | 481785 | 189921 | 11039 | 5217 | 2308 | 1590 | 2.079833e-02 | 0.05692915 | 0.5062474 | 0.22580799 | 0.00359865 | 0.00291780 | 0.09280448 | 0.4016171 | 0.3374542 | 0.3942028 |\n",
       "| MBNo8  | 1.620029 | 1.356173 | 0.2268942 | 0.002955 | 1865531 | 763019 | 753783 | 680896 | 680738 | 309858 | 17610 | 6445 | 3440 | 2210 | 7.666887e-03 | 0.03367998 | 0.3756680 | 0.17348280 | 0.00738045 | 0.00379905 | 0.14332571 | 0.4126755 | 0.3649031 | 0.4551795 |\n",
       "\n"
      ],
      "text/plain": [
       "   cellname Rawreads DNAreads RNAreads  yperx    raw_pairs pairs_dedup\n",
       "1  MB1      2.494011 2.393187 0.0873459 0.002327 2910488   685376     \n",
       "2  MB2      2.034532 1.962729 0.0619401 0.001720 2401376   602073     \n",
       "3  MB3      2.999379 2.867744 0.1151706 0.002423 3468537   682969     \n",
       "4  MB4      4.196399 4.022158 0.1510638 0.001896 5158787   916423     \n",
       "5  MB5      2.711750 2.581048 0.1134639 0.001417 3177252   712451     \n",
       "6  MB6      2.874636 2.688601 0.1619514 0.001124 3250005   679111     \n",
       "7  MB7      2.630140 2.524951 0.0909624 0.001603 3060552   697815     \n",
       "8  MB7356   2.758682 2.569281 0.1600440 0.001883 3164363   766292     \n",
       "9  MB8      2.465047 2.365851 0.0863178 0.001484 2872706   668832     \n",
       "10 MB8356   1.897423 1.777998 0.1014048 0.001986 2218074   705735     \n",
       "11 MBNo7    1.195243 1.066467 0.1090977 0.002821 1427705   584633     \n",
       "12 MBNo8    1.620029 1.356173 0.2268942 0.002955 1865531   763019     \n",
       "   pairs_clean1 pairs_clean2 pairs_clean3 inter_pairs_clean3 UMIs_gene\n",
       "1  674428       596313       596187       279843              9142    \n",
       "2  593798       521774       521643       272253             10367    \n",
       "3  672660       599814       599677       278808             13130    \n",
       "4  899865       839910       839805       433778              6683    \n",
       "5  701751       634689       634566       339524             10600    \n",
       "6  665478       592105       591992       295108             10678    \n",
       "7  688051       605115       604953       273101             10031    \n",
       "8  755236       678838       678663       308769             12056    \n",
       "9  658824       582067       581919       279777             12931    \n",
       "10 696242       621468       621336       293174             13953    \n",
       "11 578494       481914       481785       189921             11039    \n",
       "12 753783       680896       680738       309858             17610    \n",
       "   genes_gene UMIs_exon genes_exon 1m           200k       20k       50k       \n",
       "1  4685       1718      1178       1.642159e-03 0.03912695 0.3448013 0.13214933\n",
       "2  4783       1880      1310       7.430388e-03 0.07782958 0.6712903 0.31030180\n",
       "3  5224       2234      1474       5.147521e-03 0.03428305 0.3837553 0.14880461\n",
       "4  4087       1318       885       6.300549e-05 0.02186469 0.1627870 0.05802599\n",
       "5  4925       2033      1360       8.846797e-03 0.03298787 0.4387889 0.19488069\n",
       "6  5554       2280      1414       7.373894e-01 1.25648987 4.0474771 2.81629619\n",
       "7  4922       1959      1388       8.243509e-03 0.05114732 0.4068472 0.18644780\n",
       "8  5417       2424      1610       1.452542e-02 0.04998893 0.3852895 0.16976970\n",
       "9  5284       2219      1566       1.917353e-02 0.06603174 0.5052429 0.23764219\n",
       "10 5568       2480      1721       1.114154e-02 0.05218865 0.4401820 0.19499902\n",
       "11 5217       2308      1590       2.079833e-02 0.05692915 0.5062474 0.22580799\n",
       "12 6445       3440      2210       7.666887e-03 0.03367998 0.3756680 0.17348280\n",
       "   ct_reads   atac_reads RNAreadsRatio pairsPerRead pairsValidRatio\n",
       "1  0.24533452 0.11751847 0.03521255    0.3648467    0.2048409      \n",
       "2  0.22678538 0.11393543 0.03059271    0.3670466    0.2172267      \n",
       "3  0.21662377 0.20520105 0.03861008    0.3628500    0.1728905      \n",
       "4  0.31236683 0.20540453 0.03619836    0.3847775    0.1627912      \n",
       "5  0.20823885 0.14618648 0.04210927    0.3692980    0.1997216      \n",
       "6  0.25904843 0.14747130 0.05681404    0.3626427    0.1821511      \n",
       "7  0.23200995 0.16223640 0.03477270    0.3636369    0.1976614      \n",
       "8  0.17614747 0.12817680 0.05863867    0.3694843    0.2144707      \n",
       "9  0.30420412 0.13175872 0.03520059    0.3642713    0.2025682      \n",
       "10 0.16142887 0.07011278 0.05395585    0.3742536    0.2801241      \n",
       "11 0.00359865 0.00291780 0.09280448    0.4016171    0.3374542      \n",
       "12 0.00738045 0.00379905 0.14332571    0.4126755    0.3649031      \n",
       "   interPairsRatio\n",
       "1  0.4693880      \n",
       "2  0.5219144      \n",
       "3  0.4649303      \n",
       "4  0.5165223      \n",
       "5  0.5350492      \n",
       "6  0.4985000      \n",
       "7  0.4514417      \n",
       "8  0.4549666      \n",
       "9  0.4807834      \n",
       "10 0.4718445      \n",
       "11 0.3942028      \n",
       "12 0.4551795      "
      ]
     },
     "metadata": {},
     "output_type": "display_data"
    }
   ],
   "source": [
    "options(repr.matrix.max.cols=100, repr.matrix.max.rows=20)\n",
    "plot"
   ]
  },
  {
   "cell_type": "code",
   "execution_count": 4,
   "metadata": {
    "vscode": {
     "languageId": "r"
    }
   },
   "outputs": [
    {
     "name": "stderr",
     "output_type": "stream",
     "text": [
      "Warning message:\n",
      "“package ‘gridExtra’ was built under R version 4.2.1”\n",
      "Warning message:\n",
      "“package ‘gtable’ was built under R version 4.2.3”\n",
      "Warning message:\n",
      "“package ‘magrittr’ was built under R version 4.2.1”\n",
      "Warning message:\n",
      "“package ‘data.table’ was built under R version 4.2.2”\n",
      "Warning message:\n",
      "“package ‘Matrix’ was built under R version 4.2.3”\n",
      "Warning message:\n",
      "“package ‘Rcpp’ was built under R version 4.2.2”\n",
      "Setting default number of Parallel threads to 20.\n",
      "\n",
      "Setting default genome to Mm10.\n",
      "\n"
     ]
    }
   ],
   "source": [
    "library(ArchR) %>% suppressMessages()\n",
    "\n",
    "addArchRThreads(threads = 20) \n",
    "addArchRGenome(\"mm10\")"
   ]
  },
  {
   "cell_type": "code",
   "execution_count": 6,
   "metadata": {
    "vscode": {
     "languageId": "r"
    }
   },
   "outputs": [
    {
     "name": "stderr",
     "output_type": "stream",
     "text": [
      "Using GeneAnnotation set by addArchRGenome(Mm10)!\n",
      "\n",
      "Using GeneAnnotation set by addArchRGenome(Mm10)!\n",
      "\n",
      "ArchR logging to : ArchRLogs/ArchR-createArrows-ac5c6ab1f9ce-Date-2023-06-03_Time-20-27-39.log\n",
      "If there is an issue, please report to github with logFile!\n",
      "\n",
      "Cleaning Temporary Files\n",
      "\n",
      "2023-06-03 20:27:39 : Batch Execution w/ safelapply!, 0 mins elapsed.\n",
      "\n",
      "ArchR logging successful to : ArchRLogs/ArchR-createArrows-ac5c6ab1f9ce-Date-2023-06-03_Time-20-27-39.log\n",
      "\n"
     ]
    }
   ],
   "source": [
    "inputFiles <- c(\"../result/fragments/atac.fragments.bgz\",\n",
    "                \"../result/fragments/ct.fragments.bgz\")\n",
    "names(inputFiles) <- c(\"ATAC\",\"CT\")\n",
    "#inputFiles\n",
    "\n",
    "ArrowFiles <- createArrowFiles(\n",
    "  inputFiles = inputFiles,\n",
    "  sampleNames = names(inputFiles),\n",
    "  minTSS = 0, #Dont set this too high because you can always increase later\n",
    "  minFrags = 500, \n",
    "  maxFrags = Inf,\n",
    "  addTileMat = TRUE,\n",
    "  addGeneScoreMat = TRUE,\n",
    "  force = TRUE,\n",
    "  excludeChr = c(\"chrM\", \"chrY\",\"chrX\"),\n",
    ")\n",
    "proj <- ArchRProject(\n",
    "  ArrowFiles = ArrowFiles, \n",
    "  outputDirectory = \"CHARM\",\n",
    "  copyArrows = TRUE, #This is recommened so that you maintain an unaltered copy for later usage. \n",
    ") %>% suppressMessages()"
   ]
  },
  {
   "cell_type": "code",
   "execution_count": 7,
   "metadata": {
    "vscode": {
     "languageId": "r"
    }
   },
   "outputs": [
    {
     "name": "stderr",
     "output_type": "stream",
     "text": [
      "ArchR logging to : ArchRLogs/ArchR-plotFragmentSizes-ac5c62604b4c-Date-2023-06-03_Time-20-30-46.log\n",
      "If there is an issue, please report to github with logFile!\n",
      "\n",
      "ArchR logging successful to : ArchRLogs/ArchR-plotFragmentSizes-ac5c62604b4c-Date-2023-06-03_Time-20-30-46.log\n",
      "\n",
      "ArchR logging to : ArchRLogs/ArchR-plotTSSEnrichment-ac5c2c1e02cb-Date-2023-06-03_Time-20-30-54.log\n",
      "If there is an issue, please report to github with logFile!\n",
      "\n",
      "ArchR logging successful to : ArchRLogs/ArchR-plotTSSEnrichment-ac5c2c1e02cb-Date-2023-06-03_Time-20-30-54.log\n",
      "\n"
     ]
    },
    {
     "data": {
      "image/png": "[encoded data removed]",
      "text/plain": [
       "plot without title"
      ]
     },
     "metadata": {
      "image/png": {
       "height": 400,
       "width": 600
      }
     },
     "output_type": "display_data"
    }
   ],
   "source": [
    "options(repr.plot.height = 4, repr.plot.width = 6,repr.plot.res =200)\n",
    "df <- getCellColData(proj, select = c(\"log10(nFrags)\", \"TSSEnrichment\"))\n",
    "p2 <- ggPoint(\n",
    "  x = df[, 1],\n",
    "  y = df[, 2],\n",
    "  labelMeans = TRUE,\n",
    "  colorDensity = TRUE,\n",
    "  continuousSet = \"sambaNight\",\n",
    "  xlabel = \"Log10 Unique Fragments\",\n",
    "  ylabel = \"TSS Enrichment\",\n",
    "  #xlim = c(log10(50000), quantile(df[, 1], probs = 0.99)),\n",
    "  #ylim = c(0, quantile(df[, 2], probs = 0.99))\n",
    ") + geom_hline(yintercept = 2, lty = \"dashed\") + geom_vline(xintercept = 3, lty = \"dashed\")\n",
    "\n",
    "p1 <- plotFragmentSizes(ArchRProj = proj)\n",
    "p3 <- plotTSSEnrichment(proj,flank = 2000)\n",
    "p2 | p3"
   ]
  },
  {
   "cell_type": "code",
   "execution_count": 21,
   "metadata": {
    "vscode": {
     "languageId": "r"
    }
   },
   "outputs": [
    {
     "data": {
      "text/html": [
       "<table class=\"dataframe\">\n",
       "<caption>A tibble: 12 × 5</caption>\n",
       "<thead>\n",
       "\t<tr><th scope=col>cellname</th><th scope=col>ct_tssenrichment</th><th scope=col>atac_tssenrichment</th><th scope=col>ct_fragments</th><th scope=col>atac_fragments</th></tr>\n",
       "\t<tr><th scope=col>&lt;chr&gt;</th><th scope=col>&lt;dbl&gt;</th><th scope=col>&lt;dbl&gt;</th><th scope=col>&lt;dbl&gt;</th><th scope=col>&lt;dbl&gt;</th></tr>\n",
       "</thead>\n",
       "<tbody>\n",
       "\t<tr><td>MB2   </td><td>1.047</td><td>2.667</td><td>216571</td><td>106935</td></tr>\n",
       "\t<tr><td>MB8   </td><td>0.983</td><td>3.315</td><td>213248</td><td> 94521</td></tr>\n",
       "\t<tr><td>MB8356</td><td>0.925</td><td>3.229</td><td>189544</td><td> 83327</td></tr>\n",
       "\t<tr><td>MB1   </td><td>1.000</td><td>2.891</td><td>164462</td><td> 80966</td></tr>\n",
       "\t<tr><td>MB7   </td><td>1.184</td><td>3.117</td><td>138047</td><td> 99092</td></tr>\n",
       "\t<tr><td>MB6   </td><td>1.149</td><td>3.210</td><td>133838</td><td> 73520</td></tr>\n",
       "\t<tr><td>MB7356</td><td>1.120</td><td>3.189</td><td>128639</td><td> 92498</td></tr>\n",
       "\t<tr><td>MB3   </td><td>1.093</td><td>3.234</td><td>115333</td><td>101506</td></tr>\n",
       "\t<tr><td>MB5   </td><td>1.081</td><td>3.590</td><td>113440</td><td> 75236</td></tr>\n",
       "\t<tr><td>MB4   </td><td>1.205</td><td>4.265</td><td>100867</td><td> 64370</td></tr>\n",
       "\t<tr><td>MBNo8 </td><td>1.107</td><td>2.878</td><td> 43618</td><td> 23207</td></tr>\n",
       "\t<tr><td>MBNo7 </td><td>1.226</td><td>3.644</td><td> 21419</td><td> 18851</td></tr>\n",
       "</tbody>\n",
       "</table>\n"
      ],
      "text/latex": [
       "A tibble: 12 × 5\n",
       "\\begin{tabular}{lllll}\n",
       " cellname & ct\\_tssenrichment & atac\\_tssenrichment & ct\\_fragments & atac\\_fragments\\\\\n",
       " <chr> & <dbl> & <dbl> & <dbl> & <dbl>\\\\\n",
       "\\hline\n",
       "\t MB2    & 1.047 & 2.667 & 216571 & 106935\\\\\n",
       "\t MB8    & 0.983 & 3.315 & 213248 &  94521\\\\\n",
       "\t MB8356 & 0.925 & 3.229 & 189544 &  83327\\\\\n",
       "\t MB1    & 1.000 & 2.891 & 164462 &  80966\\\\\n",
       "\t MB7    & 1.184 & 3.117 & 138047 &  99092\\\\\n",
       "\t MB6    & 1.149 & 3.210 & 133838 &  73520\\\\\n",
       "\t MB7356 & 1.120 & 3.189 & 128639 &  92498\\\\\n",
       "\t MB3    & 1.093 & 3.234 & 115333 & 101506\\\\\n",
       "\t MB5    & 1.081 & 3.590 & 113440 &  75236\\\\\n",
       "\t MB4    & 1.205 & 4.265 & 100867 &  64370\\\\\n",
       "\t MBNo8  & 1.107 & 2.878 &  43618 &  23207\\\\\n",
       "\t MBNo7  & 1.226 & 3.644 &  21419 &  18851\\\\\n",
       "\\end{tabular}\n"
      ],
      "text/markdown": [
       "\n",
       "A tibble: 12 × 5\n",
       "\n",
       "| cellname &lt;chr&gt; | ct_tssenrichment &lt;dbl&gt; | atac_tssenrichment &lt;dbl&gt; | ct_fragments &lt;dbl&gt; | atac_fragments &lt;dbl&gt; |\n",
       "|---|---|---|---|---|\n",
       "| MB2    | 1.047 | 2.667 | 216571 | 106935 |\n",
       "| MB8    | 0.983 | 3.315 | 213248 |  94521 |\n",
       "| MB8356 | 0.925 | 3.229 | 189544 |  83327 |\n",
       "| MB1    | 1.000 | 2.891 | 164462 |  80966 |\n",
       "| MB7    | 1.184 | 3.117 | 138047 |  99092 |\n",
       "| MB6    | 1.149 | 3.210 | 133838 |  73520 |\n",
       "| MB7356 | 1.120 | 3.189 | 128639 |  92498 |\n",
       "| MB3    | 1.093 | 3.234 | 115333 | 101506 |\n",
       "| MB5    | 1.081 | 3.590 | 113440 |  75236 |\n",
       "| MB4    | 1.205 | 4.265 | 100867 |  64370 |\n",
       "| MBNo8  | 1.107 | 2.878 |  43618 |  23207 |\n",
       "| MBNo7  | 1.226 | 3.644 |  21419 |  18851 |\n",
       "\n"
      ],
      "text/plain": [
       "   cellname ct_tssenrichment atac_tssenrichment ct_fragments atac_fragments\n",
       "1  MB2      1.047            2.667              216571       106935        \n",
       "2  MB8      0.983            3.315              213248        94521        \n",
       "3  MB8356   0.925            3.229              189544        83327        \n",
       "4  MB1      1.000            2.891              164462        80966        \n",
       "5  MB7      1.184            3.117              138047        99092        \n",
       "6  MB6      1.149            3.210              133838        73520        \n",
       "7  MB7356   1.120            3.189              128639        92498        \n",
       "8  MB3      1.093            3.234              115333       101506        \n",
       "9  MB5      1.081            3.590              113440        75236        \n",
       "10 MB4      1.205            4.265              100867        64370        \n",
       "11 MBNo8    1.107            2.878               43618        23207        \n",
       "12 MBNo7    1.226            3.644               21419        18851        "
      ]
     },
     "metadata": {},
     "output_type": "display_data"
    }
   ],
   "source": [
    "df%>% as.data.frame() %>% mutate(frags = 10^log10.nFrags.) %>% rownames_to_column(\"cellname\") -> df\n",
    "\n",
    "# 首先将cellname拆分成两个新的列\n",
    "df <- df %>% separate(cellname, into = c(\"type\", \"cellname\"), sep = \"#\") %>% select(-log10.nFrags.)\n",
    "\n",
    "df <- df %>%\n",
    "  pivot_wider(names_from = type, values_from = c(TSSEnrichment, frags), names_sep = \"_\")\n",
    "\n",
    "names(df) <- c(\"cellname\", \"ct_tssenrichment\", \"atac_tssenrichment\", \"ct_fragments\", \"atac_fragments\")\n",
    "\n",
    "df\n"
   ]
  },
  {
   "cell_type": "code",
   "execution_count": 26,
   "metadata": {
    "vscode": {
     "languageId": "r"
    }
   },
   "outputs": [
    {
     "name": "stderr",
     "output_type": "stream",
     "text": [
      "\u001b[1m\u001b[22mJoining with `by = join_by(cellname)`\n"
     ]
    }
   ],
   "source": [
    "plot %>% full_join(df) -> plot"
   ]
  },
  {
   "cell_type": "code",
   "execution_count": 27,
   "metadata": {
    "vscode": {
     "languageId": "r"
    }
   },
   "outputs": [],
   "source": [
    "plot %>% write_tsv(\"../metadata_raw.tsv\")"
   ]
  }
 ],
 "metadata": {
  "kernelspec": {
   "display_name": "R42",
   "language": "R",
   "name": "ir"
  },
  "language_info": {
   "codemirror_mode": "r",
   "file_extension": ".r",
   "mimetype": "text/x-r-source",
   "name": "R",
   "pygments_lexer": "r",
   "version": "4.2.0"
  }
 },
 "nbformat": 4,
 "nbformat_minor": 4
}
